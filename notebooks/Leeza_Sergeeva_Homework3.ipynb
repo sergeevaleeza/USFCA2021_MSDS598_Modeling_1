{
 "cells": [
  {
   "cell_type": "markdown",
   "id": "28bc72f5",
   "metadata": {},
   "source": [
    "Leeza Sergeeva\n",
    "Homework 3\n",
    "3/7/2022"
   ]
  },
  {
   "cell_type": "code",
   "execution_count": 1,
   "id": "07323ce1",
   "metadata": {},
   "outputs": [],
   "source": [
    "import pandas as pd\n",
    "import numpy as np\n",
    "import matplotlib.pyplot as plt\n",
    "import math\n",
    "import random\n",
    "\n",
    "import seaborn as sns\n",
    "import statsmodels.api as sm\n",
    "from statsmodels.formula.api import ols\n",
    "\n",
    "from sklearn.model_selection import train_test_split"
   ]
  },
  {
   "cell_type": "markdown",
   "id": "7b887b69",
   "metadata": {},
   "source": [
    "For more information about the data set please visit \n",
    "https://www.kaggle.com/chingchunyeh/heart-disease-report"
   ]
  },
  {
   "cell_type": "code",
   "execution_count": 2,
   "id": "a34b686f",
   "metadata": {},
   "outputs": [
    {
     "data": {
      "text/html": [
       "<div>\n",
       "<style scoped>\n",
       "    .dataframe tbody tr th:only-of-type {\n",
       "        vertical-align: middle;\n",
       "    }\n",
       "\n",
       "    .dataframe tbody tr th {\n",
       "        vertical-align: top;\n",
       "    }\n",
       "\n",
       "    .dataframe thead th {\n",
       "        text-align: right;\n",
       "    }\n",
       "</style>\n",
       "<table border=\"1\" class=\"dataframe\">\n",
       "  <thead>\n",
       "    <tr style=\"text-align: right;\">\n",
       "      <th></th>\n",
       "      <th>age</th>\n",
       "      <th>sex</th>\n",
       "      <th>cp</th>\n",
       "      <th>trestbps</th>\n",
       "      <th>chol</th>\n",
       "      <th>fbs</th>\n",
       "      <th>restecg</th>\n",
       "      <th>thalach</th>\n",
       "      <th>exang</th>\n",
       "      <th>oldpeak</th>\n",
       "      <th>slope</th>\n",
       "      <th>ca</th>\n",
       "      <th>thal</th>\n",
       "      <th>target</th>\n",
       "    </tr>\n",
       "  </thead>\n",
       "  <tbody>\n",
       "    <tr>\n",
       "      <th>0</th>\n",
       "      <td>63</td>\n",
       "      <td>1</td>\n",
       "      <td>3</td>\n",
       "      <td>145</td>\n",
       "      <td>233</td>\n",
       "      <td>1</td>\n",
       "      <td>0</td>\n",
       "      <td>150</td>\n",
       "      <td>0</td>\n",
       "      <td>2.3</td>\n",
       "      <td>0</td>\n",
       "      <td>0</td>\n",
       "      <td>1</td>\n",
       "      <td>1</td>\n",
       "    </tr>\n",
       "    <tr>\n",
       "      <th>1</th>\n",
       "      <td>37</td>\n",
       "      <td>1</td>\n",
       "      <td>2</td>\n",
       "      <td>130</td>\n",
       "      <td>250</td>\n",
       "      <td>0</td>\n",
       "      <td>1</td>\n",
       "      <td>187</td>\n",
       "      <td>0</td>\n",
       "      <td>3.5</td>\n",
       "      <td>0</td>\n",
       "      <td>0</td>\n",
       "      <td>2</td>\n",
       "      <td>1</td>\n",
       "    </tr>\n",
       "    <tr>\n",
       "      <th>2</th>\n",
       "      <td>41</td>\n",
       "      <td>0</td>\n",
       "      <td>1</td>\n",
       "      <td>130</td>\n",
       "      <td>204</td>\n",
       "      <td>0</td>\n",
       "      <td>0</td>\n",
       "      <td>172</td>\n",
       "      <td>0</td>\n",
       "      <td>1.4</td>\n",
       "      <td>2</td>\n",
       "      <td>0</td>\n",
       "      <td>2</td>\n",
       "      <td>1</td>\n",
       "    </tr>\n",
       "    <tr>\n",
       "      <th>3</th>\n",
       "      <td>56</td>\n",
       "      <td>1</td>\n",
       "      <td>1</td>\n",
       "      <td>120</td>\n",
       "      <td>236</td>\n",
       "      <td>0</td>\n",
       "      <td>1</td>\n",
       "      <td>178</td>\n",
       "      <td>0</td>\n",
       "      <td>0.8</td>\n",
       "      <td>2</td>\n",
       "      <td>0</td>\n",
       "      <td>2</td>\n",
       "      <td>1</td>\n",
       "    </tr>\n",
       "    <tr>\n",
       "      <th>4</th>\n",
       "      <td>57</td>\n",
       "      <td>0</td>\n",
       "      <td>0</td>\n",
       "      <td>120</td>\n",
       "      <td>354</td>\n",
       "      <td>0</td>\n",
       "      <td>1</td>\n",
       "      <td>163</td>\n",
       "      <td>1</td>\n",
       "      <td>0.6</td>\n",
       "      <td>2</td>\n",
       "      <td>0</td>\n",
       "      <td>2</td>\n",
       "      <td>1</td>\n",
       "    </tr>\n",
       "  </tbody>\n",
       "</table>\n",
       "</div>"
      ],
      "text/plain": [
       "   age  sex  cp  trestbps  chol  fbs  restecg  thalach  exang  oldpeak  slope  \\\n",
       "0   63    1   3       145   233    1        0      150      0      2.3      0   \n",
       "1   37    1   2       130   250    0        1      187      0      3.5      0   \n",
       "2   41    0   1       130   204    0        0      172      0      1.4      2   \n",
       "3   56    1   1       120   236    0        1      178      0      0.8      2   \n",
       "4   57    0   0       120   354    0        1      163      1      0.6      2   \n",
       "\n",
       "   ca  thal  target  \n",
       "0   0     1       1  \n",
       "1   0     2       1  \n",
       "2   0     2       1  \n",
       "3   0     2       1  \n",
       "4   0     2       1  "
      ]
     },
     "execution_count": 2,
     "metadata": {},
     "output_type": "execute_result"
    }
   ],
   "source": [
    "filename = \"data/heart.csv\"\n",
    "df = pd.read_csv(filename)\n",
    "df.head()"
   ]
  },
  {
   "cell_type": "markdown",
   "id": "fd38539e",
   "metadata": {},
   "source": [
    "1. What is the percentage of patients with heart disease? Would you consider this a balanced or imbalanced dataset (no wrong answer here!)."
   ]
  },
  {
   "cell_type": "code",
   "execution_count": 3,
   "id": "068ed2de",
   "metadata": {},
   "outputs": [
    {
     "data": {
      "text/plain": [
       "count    303.000000\n",
       "mean       0.544554\n",
       "std        0.498835\n",
       "min        0.000000\n",
       "25%        0.000000\n",
       "50%        1.000000\n",
       "75%        1.000000\n",
       "max        1.000000\n",
       "Name: target, dtype: float64"
      ]
     },
     "execution_count": 3,
     "metadata": {},
     "output_type": "execute_result"
    }
   ],
   "source": [
    "df['target'].describe()"
   ]
  },
  {
   "cell_type": "markdown",
   "id": "59111f7e",
   "metadata": {},
   "source": [
    "54.45 % of the patients in the data set have heart disease. This is a balanced data set, because the data split is close to 50/50 between the patients with and without heart disease. "
   ]
  },
  {
   "cell_type": "markdown",
   "id": "1c709920",
   "metadata": {},
   "source": [
    "2. Suppose we want to use the variables age and sex to predict the presence of heart disease."
   ]
  },
  {
   "cell_type": "markdown",
   "id": "cf055ea1",
   "metadata": {},
   "source": [
    "(a) Use logistic regression to create a model predicting target from age and sex. Report\n",
    "the Accuracy."
   ]
  },
  {
   "cell_type": "code",
   "execution_count": 4,
   "id": "4bca8475",
   "metadata": {},
   "outputs": [
    {
     "name": "stdout",
     "output_type": "stream",
     "text": [
      "Optimization terminated successfully.\n",
      "         Current function value: 0.611509\n",
      "         Iterations 5\n"
     ]
    },
    {
     "data": {
      "text/html": [
       "<table class=\"simpletable\">\n",
       "<caption>Logit Regression Results</caption>\n",
       "<tr>\n",
       "  <th>Dep. Variable:</th>        <td>target</td>      <th>  No. Observations:  </th>  <td>   303</td>  \n",
       "</tr>\n",
       "<tr>\n",
       "  <th>Model:</th>                 <td>Logit</td>      <th>  Df Residuals:      </th>  <td>   300</td>  \n",
       "</tr>\n",
       "<tr>\n",
       "  <th>Method:</th>                 <td>MLE</td>       <th>  Df Model:          </th>  <td>     2</td>  \n",
       "</tr>\n",
       "<tr>\n",
       "  <th>Date:</th>            <td>Mon, 07 Mar 2022</td> <th>  Pseudo R-squ.:     </th>  <td>0.1127</td>  \n",
       "</tr>\n",
       "<tr>\n",
       "  <th>Time:</th>                <td>12:15:46</td>     <th>  Log-Likelihood:    </th> <td> -185.29</td> \n",
       "</tr>\n",
       "<tr>\n",
       "  <th>converged:</th>             <td>True</td>       <th>  LL-Null:           </th> <td> -208.82</td> \n",
       "</tr>\n",
       "<tr>\n",
       "  <th>Covariance Type:</th>     <td>nonrobust</td>    <th>  LLR p-value:       </th> <td>6.028e-11</td>\n",
       "</tr>\n",
       "</table>\n",
       "<table class=\"simpletable\">\n",
       "<tr>\n",
       "      <td></td>         <th>coef</th>     <th>std err</th>      <th>z</th>      <th>P>|z|</th>  <th>[0.025</th>    <th>0.975]</th>  \n",
       "</tr>\n",
       "<tr>\n",
       "  <th>Intercept</th> <td>    4.8946</td> <td>    0.900</td> <td>    5.441</td> <td> 0.000</td> <td>    3.131</td> <td>    6.658</td>\n",
       "</tr>\n",
       "<tr>\n",
       "  <th>age</th>       <td>   -0.0665</td> <td>    0.015</td> <td>   -4.483</td> <td> 0.000</td> <td>   -0.096</td> <td>   -0.037</td>\n",
       "</tr>\n",
       "<tr>\n",
       "  <th>sex</th>       <td>   -1.5375</td> <td>    0.293</td> <td>   -5.249</td> <td> 0.000</td> <td>   -2.112</td> <td>   -0.963</td>\n",
       "</tr>\n",
       "</table>"
      ],
      "text/plain": [
       "<class 'statsmodels.iolib.summary.Summary'>\n",
       "\"\"\"\n",
       "                           Logit Regression Results                           \n",
       "==============================================================================\n",
       "Dep. Variable:                 target   No. Observations:                  303\n",
       "Model:                          Logit   Df Residuals:                      300\n",
       "Method:                           MLE   Df Model:                            2\n",
       "Date:                Mon, 07 Mar 2022   Pseudo R-squ.:                  0.1127\n",
       "Time:                        12:15:46   Log-Likelihood:                -185.29\n",
       "converged:                       True   LL-Null:                       -208.82\n",
       "Covariance Type:            nonrobust   LLR p-value:                 6.028e-11\n",
       "==============================================================================\n",
       "                 coef    std err          z      P>|z|      [0.025      0.975]\n",
       "------------------------------------------------------------------------------\n",
       "Intercept      4.8946      0.900      5.441      0.000       3.131       6.658\n",
       "age           -0.0665      0.015     -4.483      0.000      -0.096      -0.037\n",
       "sex           -1.5375      0.293     -5.249      0.000      -2.112      -0.963\n",
       "==============================================================================\n",
       "\"\"\""
      ]
     },
     "execution_count": 4,
     "metadata": {},
     "output_type": "execute_result"
    }
   ],
   "source": [
    "from statsmodels.formula.api import logit\n",
    "\n",
    "model = logit(formula = 'target ~ age + sex', data=df)\n",
    "res = model.fit()\n",
    "res.summary()"
   ]
  },
  {
   "cell_type": "code",
   "execution_count": 5,
   "id": "c9ae9b88",
   "metadata": {},
   "outputs": [
    {
     "data": {
      "text/plain": [
       "0     0.303230\n",
       "1     0.710305\n",
       "2     0.897373\n",
       "3     0.409384\n",
       "4     0.751097\n",
       "5     0.393409\n",
       "6     0.763319\n",
       "7     0.606210\n",
       "8     0.474887\n",
       "9     0.393409\n",
       "10    0.441883\n",
       "11    0.845915\n",
       "12    0.524715\n",
       "13    0.289367\n",
       "14    0.738460\n",
       "15    0.827773\n",
       "16    0.738460\n",
       "17    0.623875\n",
       "18    0.621967\n",
       "19    0.576043\n",
       "dtype: float64"
      ]
     },
     "execution_count": 5,
     "metadata": {},
     "output_type": "execute_result"
    }
   ],
   "source": [
    "x = df[['sex','age']]\n",
    "y = df['target']\n",
    "\n",
    "y_pred_prob = res.predict(x)\n",
    "y_pred_prob[:20]"
   ]
  },
  {
   "cell_type": "code",
   "execution_count": 6,
   "id": "dcdf6ff2",
   "metadata": {},
   "outputs": [
    {
     "data": {
      "text/plain": [
       "0     0\n",
       "1     1\n",
       "2     1\n",
       "3     0\n",
       "4     1\n",
       "5     0\n",
       "6     1\n",
       "7     1\n",
       "8     0\n",
       "9     0\n",
       "10    0\n",
       "11    1\n",
       "12    1\n",
       "13    0\n",
       "14    1\n",
       "15    1\n",
       "16    1\n",
       "17    1\n",
       "18    1\n",
       "19    1\n",
       "dtype: int64"
      ]
     },
     "execution_count": 6,
     "metadata": {},
     "output_type": "execute_result"
    }
   ],
   "source": [
    "y_pred = (y_pred_prob >= 0.5).apply(int)\n",
    "y_pred[:20]"
   ]
  },
  {
   "cell_type": "code",
   "execution_count": 7,
   "id": "b43b23b5",
   "metadata": {},
   "outputs": [
    {
     "name": "stdout",
     "output_type": "stream",
     "text": [
      "The Accuracy of this model is 64.68646864686468%\n"
     ]
    }
   ],
   "source": [
    "# let's utilize sklearn's metrics package\n",
    "from sklearn import metrics\n",
    "\n",
    "acc = metrics.accuracy_score(y, y_pred)\n",
    "print(f'The Accuracy of this model is {100*acc}%')"
   ]
  },
  {
   "cell_type": "markdown",
   "id": "15b500eb",
   "metadata": {},
   "source": [
    "(b) If we had a model that predicted heart disease for every patient, what would the\n",
    "accuracy be?"
   ]
  },
  {
   "cell_type": "code",
   "execution_count": 8,
   "id": "3aed5305",
   "metadata": {},
   "outputs": [
    {
     "name": "stdout",
     "output_type": "stream",
     "text": [
      "The Accuracy of this model is 45.54455445544555%\n"
     ]
    }
   ],
   "source": [
    "y_pred = (y_pred_prob >= 1).apply(int)\n",
    "acc = metrics.accuracy_score(y, y_pred)\n",
    "print(f'The Accuracy of this model is {100*acc}%')"
   ]
  },
  {
   "cell_type": "markdown",
   "id": "0ceda3b3",
   "metadata": {},
   "source": [
    "3. Perform a train-validation split (use 50 patients for your validation set). What is the accuracy of your model (same variables as the previous question, created on the training set) on the validation set?"
   ]
  },
  {
   "cell_type": "code",
   "execution_count": 9,
   "id": "6e4451f5",
   "metadata": {},
   "outputs": [],
   "source": [
    "train, val = train_test_split(df, test_size=50)"
   ]
  },
  {
   "cell_type": "code",
   "execution_count": 10,
   "id": "83f48364",
   "metadata": {},
   "outputs": [
    {
     "name": "stdout",
     "output_type": "stream",
     "text": [
      "Optimization terminated successfully.\n",
      "         Current function value: 0.618778\n",
      "         Iterations 5\n",
      "The Accuracy of the model on the validation set is 70.0%\n",
      "The Recall of the model on the validation set is 0.6538461538461539\n",
      "The Precision of the model on the validation set is 0.7391304347826086\n"
     ]
    }
   ],
   "source": [
    "model = logit(formula = 'target ~ age + sex', data=train)\n",
    "res = model.fit()\n",
    "\n",
    "x = val[['age', 'sex']]\n",
    "y = val['target']\n",
    "\n",
    "y_pred_prob = res.predict(x)\n",
    "y_pred = (y_pred_prob >= 0.5).apply(int)\n",
    "\n",
    "acc = metrics.accuracy_score(y, y_pred)\n",
    "recall = metrics.recall_score(y, y_pred)\n",
    "prec = metrics.precision_score(y, y_pred)\n",
    "\n",
    "print(f'The Accuracy of the model on the validation set is {100*acc}%')\n",
    "print(f'The Recall of the model on the validation set is {recall}')\n",
    "print(f'The Precision of the model on the validation set is {prec}')"
   ]
  },
  {
   "cell_type": "markdown",
   "id": "b788060a",
   "metadata": {},
   "source": [
    "4. Pick another variable. Use this validation set and the accuracy metric to decide if this variable improves the model or not."
   ]
  },
  {
   "cell_type": "code",
   "execution_count": 12,
   "id": "a0abafbd",
   "metadata": {},
   "outputs": [
    {
     "name": "stdout",
     "output_type": "stream",
     "text": [
      "Optimization terminated successfully.\n",
      "         Current function value: 0.515196\n",
      "         Iterations 6\n",
      "The Accuracy of the model on the validation set is 76.0%\n",
      "The Recall of the model on the validation set is 0.7692307692307693\n",
      "The Precision of the model on the validation set is 0.7692307692307693\n"
     ]
    }
   ],
   "source": [
    "model = logit(formula = 'target ~ age + sex + cp', data=train)\n",
    "res = model.fit()\n",
    "\n",
    "x = val[['age', 'sex', 'cp']]\n",
    "y = val['target']\n",
    "\n",
    "y_pred_prob = res.predict(x)\n",
    "y_pred = (y_pred_prob >= 0.5).apply(int)\n",
    "\n",
    "acc = metrics.accuracy_score(y, y_pred)\n",
    "recall = metrics.recall_score(y, y_pred)\n",
    "prec = metrics.precision_score(y, y_pred)\n",
    "\n",
    "print(f'The Accuracy of the model on the validation set is {100*acc}%')\n",
    "print(f'The Recall of the model on the validation set is {recall}')\n",
    "print(f'The Precision of the model on the validation set is {prec}')"
   ]
  },
  {
   "cell_type": "markdown",
   "id": "460bcae7",
   "metadata": {},
   "source": [
    "By adding 'cp' variable to the model, improved the accurecy of heart disease prediction in patients. \n",
    "\n",
    "Note: 'cp' is the chest pain experienced (Value 1: typical angina, Value 2: atypical angina, Value 3: non-anginal pain, Value 4: asymptomatic)."
   ]
  },
  {
   "cell_type": "markdown",
   "id": "0ff810c9",
   "metadata": {},
   "source": [
    "5. Pick your favorite set of independent variables and run a logistic regression using trainvalidation set from above."
   ]
  },
  {
   "cell_type": "code",
   "execution_count": 19,
   "id": "5f107fb0",
   "metadata": {},
   "outputs": [
    {
     "name": "stdout",
     "output_type": "stream",
     "text": [
      "Optimization terminated successfully.\n",
      "         Current function value: 0.547041\n",
      "         Iterations 6\n"
     ]
    }
   ],
   "source": [
    "model = logit(formula = 'target ~ exang + chol + thalach ', data=train)\n",
    "res = model.fit()\n",
    "\n",
    "x = val[['exang', 'chol', 'thalach']]\n",
    "y = val['target']\n",
    "\n",
    "y_pred_prob = res.predict(x)\n",
    "y_pred = (y_pred_prob >= 0.5).apply(int)"
   ]
  },
  {
   "cell_type": "markdown",
   "id": "9f0a577b",
   "metadata": {},
   "source": [
    "(a) Produce the Confusion Matrix."
   ]
  },
  {
   "cell_type": "code",
   "execution_count": 20,
   "id": "2f448a85",
   "metadata": {},
   "outputs": [
    {
     "data": {
      "image/png": "[encoded data removed]",
      "text/plain": [
       "<Figure size 432x288 with 2 Axes>"
      ]
     },
     "metadata": {
      "needs_background": "light"
     },
     "output_type": "display_data"
    }
   ],
   "source": [
    "# build the confusion matrix\n",
    "cm = metrics.confusion_matrix(y, y_pred)\n",
    "# display it nicely\n",
    "disp = metrics.ConfusionMatrixDisplay(confusion_matrix=cm)\n",
    "disp.plot()\n",
    "plt.show()"
   ]
  },
  {
   "cell_type": "markdown",
   "id": "f6bf0bd4",
   "metadata": {},
   "source": [
    "(b) Report the Accuracy, Precision, Recall, and AUC."
   ]
  },
  {
   "cell_type": "code",
   "execution_count": 22,
   "id": "6196f794",
   "metadata": {},
   "outputs": [
    {
     "name": "stdout",
     "output_type": "stream",
     "text": [
      "The Accuracy of the model on the validation set is 74.0%\n",
      "The Precision of the model on the validation set is 0.696969696969697\n",
      "The Recall of the model on the validation set is 0.8846153846153846\n",
      "The AUC of this model is 0.8237179487179487\n"
     ]
    }
   ],
   "source": [
    "acc = metrics.accuracy_score(y, y_pred)\n",
    "recall = metrics.recall_score(y, y_pred)\n",
    "prec = metrics.precision_score(y, y_pred)\n",
    "auc = metrics.roc_auc_score(y, y_pred_prob)\n",
    "\n",
    "print(f'The Accuracy of the model on the validation set is {100*acc}%')\n",
    "print(f'The Precision of the model on the validation set is {prec}')\n",
    "print(f'The Recall of the model on the validation set is {recall}')\n",
    "print(f'The AUC of this model is {auc}')"
   ]
  },
  {
   "cell_type": "markdown",
   "id": "c959d278",
   "metadata": {},
   "source": [
    "(c) Considering the task of predicting whether a person has heart disease or not, which\n",
    "metric in part (b) is the most important?"
   ]
  },
  {
   "cell_type": "markdown",
   "id": "8ba0e8e2",
   "metadata": {},
   "source": [
    "In case of predicting whether a person has a heart disease or not, recall and precision values of the model are important metrics in validating how the model performs (or how well it can correctly predict the positives). Since the value AUC (area under the curve) is derived from precision and recall value, AUC is important for the model prediction, since it tells us how well the model can predict the value. "
   ]
  }
 ],
 "metadata": {
  "kernelspec": {
   "display_name": "Python 3",
   "language": "python",
   "name": "python3"
  },
  "language_info": {
   "codemirror_mode": {
    "name": "ipython",
    "version": 3
   },
   "file_extension": ".py",
   "mimetype": "text/x-python",
   "name": "python",
   "nbconvert_exporter": "python",
   "pygments_lexer": "ipython3",
   "version": "3.9.5"
  }
 },
 "nbformat": 4,
 "nbformat_minor": 5
}
