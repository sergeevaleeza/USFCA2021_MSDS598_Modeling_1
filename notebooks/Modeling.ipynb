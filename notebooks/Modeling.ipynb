{
 "cells": [
  {
   "cell_type": "code",
   "execution_count": 1,
   "id": "553cb2fb-71ca-407c-ac55-d9eb10588ddd",
   "metadata": {},
   "outputs": [],
   "source": [
    "import pandas as pd\n",
    "import numpy as np\n",
    "import matplotlib.pyplot as plt\n",
    "import math\n",
    "import random\n",
    "\n",
    "import seaborn as sns\n",
    "import statsmodels.api as sm\n",
    "from statsmodels.formula.api import ols"
   ]
  },
  {
   "cell_type": "markdown",
   "id": "1abec13d-ed42-40e4-9022-c795da5424d3",
   "metadata": {},
   "source": [
    "Let's use the tools we've learned so far and the model one type we've learned to see how the modeling process works. In other words:\n",
    "\n",
    "# You made a model, now what?"
   ]
  },
  {
   "cell_type": "markdown",
   "id": "bcb62d47-f957-4b09-89c4-841fdd229f04",
   "metadata": {},
   "source": [
    "### Lab Two Questions?\n",
    "\n",
    "Note the difference between the two models:\n",
    "\n",
    "$$\n",
    "Y_{mass} = \\beta_0 + \\beta_1 X_{flipper} + \\beta_2 X_{is\\_male}\n",
    "$$\n",
    "\n",
    "$$\n",
    "Y_{mass} = \\beta_0 + \\beta_1 X_{flipper} + \\beta_2 X_{is\\_male} + \\beta_3 X_{flipper} X_{is\\_male}\n",
    "$$\n",
    "\n",
    "- Why might we want this extra term? What happens in these models when $X_{is\\_male} = 0$ vs. $= 1$?"
   ]
  },
  {
   "cell_type": "code",
   "execution_count": 2,
   "id": "5e59fc56-695f-4bfb-ab03-7031c4138abe",
   "metadata": {},
   "outputs": [
    {
     "data": {
      "text/html": [
       "<div>\n",
       "<style scoped>\n",
       "    .dataframe tbody tr th:only-of-type {\n",
       "        vertical-align: middle;\n",
       "    }\n",
       "\n",
       "    .dataframe tbody tr th {\n",
       "        vertical-align: top;\n",
       "    }\n",
       "\n",
       "    .dataframe thead th {\n",
       "        text-align: right;\n",
       "    }\n",
       "</style>\n",
       "<table border=\"1\" class=\"dataframe\">\n",
       "  <thead>\n",
       "    <tr style=\"text-align: right;\">\n",
       "      <th></th>\n",
       "      <th>species</th>\n",
       "      <th>island</th>\n",
       "      <th>bill_length_mm</th>\n",
       "      <th>bill_depth_mm</th>\n",
       "      <th>flipper_length_mm</th>\n",
       "      <th>body_mass_g</th>\n",
       "      <th>sex</th>\n",
       "    </tr>\n",
       "  </thead>\n",
       "  <tbody>\n",
       "    <tr>\n",
       "      <th>0</th>\n",
       "      <td>Adelie</td>\n",
       "      <td>Torgersen</td>\n",
       "      <td>39.1</td>\n",
       "      <td>18.7</td>\n",
       "      <td>181.0</td>\n",
       "      <td>3750.0</td>\n",
       "      <td>Male</td>\n",
       "    </tr>\n",
       "    <tr>\n",
       "      <th>1</th>\n",
       "      <td>Adelie</td>\n",
       "      <td>Torgersen</td>\n",
       "      <td>39.5</td>\n",
       "      <td>17.4</td>\n",
       "      <td>186.0</td>\n",
       "      <td>3800.0</td>\n",
       "      <td>Female</td>\n",
       "    </tr>\n",
       "    <tr>\n",
       "      <th>2</th>\n",
       "      <td>Adelie</td>\n",
       "      <td>Torgersen</td>\n",
       "      <td>40.3</td>\n",
       "      <td>18.0</td>\n",
       "      <td>195.0</td>\n",
       "      <td>3250.0</td>\n",
       "      <td>Female</td>\n",
       "    </tr>\n",
       "    <tr>\n",
       "      <th>3</th>\n",
       "      <td>Adelie</td>\n",
       "      <td>Torgersen</td>\n",
       "      <td>NaN</td>\n",
       "      <td>NaN</td>\n",
       "      <td>NaN</td>\n",
       "      <td>NaN</td>\n",
       "      <td>NaN</td>\n",
       "    </tr>\n",
       "    <tr>\n",
       "      <th>4</th>\n",
       "      <td>Adelie</td>\n",
       "      <td>Torgersen</td>\n",
       "      <td>36.7</td>\n",
       "      <td>19.3</td>\n",
       "      <td>193.0</td>\n",
       "      <td>3450.0</td>\n",
       "      <td>Female</td>\n",
       "    </tr>\n",
       "  </tbody>\n",
       "</table>\n",
       "</div>"
      ],
      "text/plain": [
       "  species     island  bill_length_mm  bill_depth_mm  flipper_length_mm  \\\n",
       "0  Adelie  Torgersen            39.1           18.7              181.0   \n",
       "1  Adelie  Torgersen            39.5           17.4              186.0   \n",
       "2  Adelie  Torgersen            40.3           18.0              195.0   \n",
       "3  Adelie  Torgersen             NaN            NaN                NaN   \n",
       "4  Adelie  Torgersen            36.7           19.3              193.0   \n",
       "\n",
       "   body_mass_g     sex  \n",
       "0       3750.0    Male  \n",
       "1       3800.0  Female  \n",
       "2       3250.0  Female  \n",
       "3          NaN     NaN  \n",
       "4       3450.0  Female  "
      ]
     },
     "execution_count": 2,
     "metadata": {},
     "output_type": "execute_result"
    }
   ],
   "source": [
    "df_penguins = sns.load_dataset('penguins')\n",
    "df_penguins.head()"
   ]
  },
  {
   "cell_type": "code",
   "execution_count": null,
   "id": "4354db2a-966a-4d52-af83-eed68202e3d8",
   "metadata": {},
   "outputs": [],
   "source": []
  },
  {
   "cell_type": "markdown",
   "id": "d716601c-7f2f-4c95-bd86-1faeb12647fc",
   "metadata": {},
   "source": [
    "## Metrics vs. Loss\n",
    "\n",
    "- In Machine Learning the **Loss Function** refers to the quantity used to *optimize* or create the model. Usually the loss function is minimized (This is just by convention; minimization is equivalent to maximizing the negative of a real-valued function).\n",
    "- A **Metric** is the quantity used to *evaluate* the model. Usually this is the quantity we really care about.\n",
    "\n",
    "### Example\n",
    "- Predict whether a penguin's body mass is higher than average using Linear Regression.\n",
    "- (We could also use Logistic Regression, but that's for next time!)"
   ]
  },
  {
   "cell_type": "code",
   "execution_count": 3,
   "id": "33c6f0ad-ac79-430b-9f1e-aa0bc183458b",
   "metadata": {},
   "outputs": [
    {
     "name": "stdout",
     "output_type": "stream",
     "text": [
      "Mean body mass is 4201.754385964912\n"
     ]
    }
   ],
   "source": [
    "print(f'Mean body mass is {df_penguins[\"body_mass_g\"].mean()}')"
   ]
  },
  {
   "cell_type": "code",
   "execution_count": 4,
   "id": "7bd061b4-cfa2-43a2-ab39-fc95802fbae4",
   "metadata": {},
   "outputs": [
    {
     "data": {
      "text/plain": [
       "<function matplotlib.pyplot.show(close=None, block=None)>"
      ]
     },
     "execution_count": 4,
     "metadata": {},
     "output_type": "execute_result"
    },
    {
     "data": {
      "image/png": "[encoded data removed]",
      "text/plain": [
       "<Figure size 432x288 with 1 Axes>"
      ]
     },
     "metadata": {
      "needs_background": "light"
     },
     "output_type": "display_data"
    }
   ],
   "source": [
    "plt.hist(df_penguins['body_mass_g'])\n",
    "plt.axvline(x=df_penguins[\"body_mass_g\"].mean(), color='red')\n",
    "plt.show"
   ]
  },
  {
   "cell_type": "code",
   "execution_count": 5,
   "id": "afa2d168-5a67-4d68-af9e-9d37743ca762",
   "metadata": {},
   "outputs": [
    {
     "data": {
      "image/png": "[encoded data removed]",
      "text/plain": [
       "<Figure size 720x720 with 20 Axes>"
      ]
     },
     "metadata": {
      "needs_background": "light"
     },
     "output_type": "display_data"
    }
   ],
   "source": [
    "sns.pairplot(df_penguins)\n",
    "plt.show()"
   ]
  },
  {
   "cell_type": "code",
   "execution_count": 6,
   "id": "c613b581-13b5-4410-beb8-1360c2406cc3",
   "metadata": {},
   "outputs": [
    {
     "data": {
      "text/html": [
       "<div>\n",
       "<style scoped>\n",
       "    .dataframe tbody tr th:only-of-type {\n",
       "        vertical-align: middle;\n",
       "    }\n",
       "\n",
       "    .dataframe tbody tr th {\n",
       "        vertical-align: top;\n",
       "    }\n",
       "\n",
       "    .dataframe thead th {\n",
       "        text-align: right;\n",
       "    }\n",
       "</style>\n",
       "<table border=\"1\" class=\"dataframe\">\n",
       "  <thead>\n",
       "    <tr style=\"text-align: right;\">\n",
       "      <th></th>\n",
       "      <th>bill_length_mm</th>\n",
       "      <th>bill_depth_mm</th>\n",
       "      <th>flipper_length_mm</th>\n",
       "      <th>body_mass_g</th>\n",
       "    </tr>\n",
       "  </thead>\n",
       "  <tbody>\n",
       "    <tr>\n",
       "      <th>bill_length_mm</th>\n",
       "      <td>1.000000</td>\n",
       "      <td>-0.235053</td>\n",
       "      <td>0.656181</td>\n",
       "      <td>0.595110</td>\n",
       "    </tr>\n",
       "    <tr>\n",
       "      <th>bill_depth_mm</th>\n",
       "      <td>-0.235053</td>\n",
       "      <td>1.000000</td>\n",
       "      <td>-0.583851</td>\n",
       "      <td>-0.471916</td>\n",
       "    </tr>\n",
       "    <tr>\n",
       "      <th>flipper_length_mm</th>\n",
       "      <td>0.656181</td>\n",
       "      <td>-0.583851</td>\n",
       "      <td>1.000000</td>\n",
       "      <td>0.871202</td>\n",
       "    </tr>\n",
       "    <tr>\n",
       "      <th>body_mass_g</th>\n",
       "      <td>0.595110</td>\n",
       "      <td>-0.471916</td>\n",
       "      <td>0.871202</td>\n",
       "      <td>1.000000</td>\n",
       "    </tr>\n",
       "  </tbody>\n",
       "</table>\n",
       "</div>"
      ],
      "text/plain": [
       "                   bill_length_mm  bill_depth_mm  flipper_length_mm  \\\n",
       "bill_length_mm           1.000000      -0.235053           0.656181   \n",
       "bill_depth_mm           -0.235053       1.000000          -0.583851   \n",
       "flipper_length_mm        0.656181      -0.583851           1.000000   \n",
       "body_mass_g              0.595110      -0.471916           0.871202   \n",
       "\n",
       "                   body_mass_g  \n",
       "bill_length_mm        0.595110  \n",
       "bill_depth_mm        -0.471916  \n",
       "flipper_length_mm     0.871202  \n",
       "body_mass_g           1.000000  "
      ]
     },
     "execution_count": 6,
     "metadata": {},
     "output_type": "execute_result"
    }
   ],
   "source": [
    "df_penguins.corr()"
   ]
  },
  {
   "cell_type": "markdown",
   "id": "ea22f915-b320-4bed-be9a-17fb2497eacd",
   "metadata": {},
   "source": [
    "Looks like many of the features are somewhat linearly correlated.. Let's throw them all in a model and see what happens."
   ]
  },
  {
   "cell_type": "code",
   "execution_count": 7,
   "id": "452645aa-6d0f-4147-b465-35605bec2f90",
   "metadata": {},
   "outputs": [
    {
     "data": {
      "text/html": [
       "<table class=\"simpletable\">\n",
       "<caption>OLS Regression Results</caption>\n",
       "<tr>\n",
       "  <th>Dep. Variable:</th>       <td>body_mass_g</td>   <th>  R-squared:         </th> <td>   0.761</td> \n",
       "</tr>\n",
       "<tr>\n",
       "  <th>Model:</th>                   <td>OLS</td>       <th>  Adj. R-squared:    </th> <td>   0.759</td> \n",
       "</tr>\n",
       "<tr>\n",
       "  <th>Method:</th>             <td>Least Squares</td>  <th>  F-statistic:       </th> <td>   359.7</td> \n",
       "</tr>\n",
       "<tr>\n",
       "  <th>Date:</th>             <td>Thu, 10 Mar 2022</td> <th>  Prob (F-statistic):</th> <td>8.19e-105</td>\n",
       "</tr>\n",
       "<tr>\n",
       "  <th>Time:</th>                 <td>20:05:26</td>     <th>  Log-Likelihood:    </th> <td> -2526.7</td> \n",
       "</tr>\n",
       "<tr>\n",
       "  <th>No. Observations:</th>      <td>   342</td>      <th>  AIC:               </th> <td>   5061.</td> \n",
       "</tr>\n",
       "<tr>\n",
       "  <th>Df Residuals:</th>          <td>   338</td>      <th>  BIC:               </th> <td>   5077.</td> \n",
       "</tr>\n",
       "<tr>\n",
       "  <th>Df Model:</th>              <td>     3</td>      <th>                     </th>     <td> </td>    \n",
       "</tr>\n",
       "<tr>\n",
       "  <th>Covariance Type:</th>      <td>nonrobust</td>    <th>                     </th>     <td> </td>    \n",
       "</tr>\n",
       "</table>\n",
       "<table class=\"simpletable\">\n",
       "<tr>\n",
       "          <td></td>             <th>coef</th>     <th>std err</th>      <th>t</th>      <th>P>|t|</th>  <th>[0.025</th>    <th>0.975]</th>  \n",
       "</tr>\n",
       "<tr>\n",
       "  <th>Intercept</th>         <td>-6424.7647</td> <td>  561.469</td> <td>  -11.443</td> <td> 0.000</td> <td>-7529.179</td> <td>-5320.351</td>\n",
       "</tr>\n",
       "<tr>\n",
       "  <th>flipper_length_mm</th> <td>   50.2692</td> <td>    2.477</td> <td>   20.293</td> <td> 0.000</td> <td>   45.397</td> <td>   55.142</td>\n",
       "</tr>\n",
       "<tr>\n",
       "  <th>bill_depth_mm</th>     <td>   20.0495</td> <td>   13.694</td> <td>    1.464</td> <td> 0.144</td> <td>   -6.887</td> <td>   46.986</td>\n",
       "</tr>\n",
       "<tr>\n",
       "  <th>bill_length_mm</th>    <td>    4.1618</td> <td>    5.329</td> <td>    0.781</td> <td> 0.435</td> <td>   -6.321</td> <td>   14.644</td>\n",
       "</tr>\n",
       "</table>\n",
       "<table class=\"simpletable\">\n",
       "<tr>\n",
       "  <th>Omnibus:</th>       <td> 5.263</td> <th>  Durbin-Watson:     </th> <td>   2.016</td>\n",
       "</tr>\n",
       "<tr>\n",
       "  <th>Prob(Omnibus):</th> <td> 0.072</td> <th>  Jarque-Bera (JB):  </th> <td>   5.129</td>\n",
       "</tr>\n",
       "<tr>\n",
       "  <th>Skew:</th>          <td> 0.298</td> <th>  Prob(JB):          </th> <td>  0.0770</td>\n",
       "</tr>\n",
       "<tr>\n",
       "  <th>Kurtosis:</th>      <td> 3.065</td> <th>  Cond. No.          </th> <td>5.46e+03</td>\n",
       "</tr>\n",
       "</table><br/><br/>Notes:<br/>[1] Standard Errors assume that the covariance matrix of the errors is correctly specified.<br/>[2] The condition number is large, 5.46e+03. This might indicate that there are<br/>strong multicollinearity or other numerical problems."
      ],
      "text/plain": [
       "<class 'statsmodels.iolib.summary.Summary'>\n",
       "\"\"\"\n",
       "                            OLS Regression Results                            \n",
       "==============================================================================\n",
       "Dep. Variable:            body_mass_g   R-squared:                       0.761\n",
       "Model:                            OLS   Adj. R-squared:                  0.759\n",
       "Method:                 Least Squares   F-statistic:                     359.7\n",
       "Date:                Thu, 10 Mar 2022   Prob (F-statistic):          8.19e-105\n",
       "Time:                        20:05:26   Log-Likelihood:                -2526.7\n",
       "No. Observations:                 342   AIC:                             5061.\n",
       "Df Residuals:                     338   BIC:                             5077.\n",
       "Df Model:                           3                                         \n",
       "Covariance Type:            nonrobust                                         \n",
       "=====================================================================================\n",
       "                        coef    std err          t      P>|t|      [0.025      0.975]\n",
       "-------------------------------------------------------------------------------------\n",
       "Intercept         -6424.7647    561.469    -11.443      0.000   -7529.179   -5320.351\n",
       "flipper_length_mm    50.2692      2.477     20.293      0.000      45.397      55.142\n",
       "bill_depth_mm        20.0495     13.694      1.464      0.144      -6.887      46.986\n",
       "bill_length_mm        4.1618      5.329      0.781      0.435      -6.321      14.644\n",
       "==============================================================================\n",
       "Omnibus:                        5.263   Durbin-Watson:                   2.016\n",
       "Prob(Omnibus):                  0.072   Jarque-Bera (JB):                5.129\n",
       "Skew:                           0.298   Prob(JB):                       0.0770\n",
       "Kurtosis:                       3.065   Cond. No.                     5.46e+03\n",
       "==============================================================================\n",
       "\n",
       "Notes:\n",
       "[1] Standard Errors assume that the covariance matrix of the errors is correctly specified.\n",
       "[2] The condition number is large, 5.46e+03. This might indicate that there are\n",
       "strong multicollinearity or other numerical problems.\n",
       "\"\"\""
      ]
     },
     "execution_count": 7,
     "metadata": {},
     "output_type": "execute_result"
    }
   ],
   "source": [
    "model = ols(formula = 'body_mass_g ~ flipper_length_mm + bill_depth_mm + bill_length_mm', data=df_penguins)\n",
    "res = model.fit()\n",
    "res.summary()"
   ]
  },
  {
   "cell_type": "markdown",
   "id": "1a74f128-56e9-400a-8ace-4bed9f3c7676",
   "metadata": {},
   "source": [
    "- What is the Loss Function here?\n",
    "- What might you use for a Metric if we care about predicting body mass accurately?\n",
    "\n",
    "### An aside:\n",
    "- For OLS, minimizing RSS is the same as maximizing $R^2$. Recall:\n",
    "\n",
    "$$\n",
    "RSS = \\frac{TSS - RSS}{TSS}.\n",
    "$$\n",
    "\n",
    "Even in this case, I would call $R^2$ a metric because:\n",
    "- In my final report I would record the $R^2$ value.\n",
    "- I would compare the $R^2$ value with another model created in another way (maybe something fancy like a decision tree)."
   ]
  },
  {
   "cell_type": "markdown",
   "id": "92ea58ba-4d3a-4b41-9516-a837946578dc",
   "metadata": {},
   "source": [
    "### Adjusted R^2\n",
    "\n",
    "Let $n$ be the number of samples and $k$ be the number of features, then\n",
    "\n",
    "$$\n",
    "Adj \\,\\, R^2: 1 - (1-R^2)\\frac{(n-1)}{(n-k-1)}\n",
    "$$\n",
    "- Think about what happens when $k$ increases. How does $n$ affect this?"
   ]
  },
  {
   "cell_type": "markdown",
   "id": "91cb851d-0617-4332-a01f-7c69c8d4bc36",
   "metadata": {},
   "source": [
    "Let's move on to predicting whether a penguin \"is heavier\" or not."
   ]
  },
  {
   "cell_type": "code",
   "execution_count": 8,
   "id": "f7184978-5c47-4446-83d2-58c2a9e46ae9",
   "metadata": {},
   "outputs": [
    {
     "data": {
      "text/html": [
       "<div>\n",
       "<style scoped>\n",
       "    .dataframe tbody tr th:only-of-type {\n",
       "        vertical-align: middle;\n",
       "    }\n",
       "\n",
       "    .dataframe tbody tr th {\n",
       "        vertical-align: top;\n",
       "    }\n",
       "\n",
       "    .dataframe thead th {\n",
       "        text-align: right;\n",
       "    }\n",
       "</style>\n",
       "<table border=\"1\" class=\"dataframe\">\n",
       "  <thead>\n",
       "    <tr style=\"text-align: right;\">\n",
       "      <th></th>\n",
       "      <th>species</th>\n",
       "      <th>island</th>\n",
       "      <th>bill_length_mm</th>\n",
       "      <th>bill_depth_mm</th>\n",
       "      <th>flipper_length_mm</th>\n",
       "      <th>body_mass_g</th>\n",
       "      <th>sex</th>\n",
       "      <th>is_heavier</th>\n",
       "    </tr>\n",
       "  </thead>\n",
       "  <tbody>\n",
       "    <tr>\n",
       "      <th>0</th>\n",
       "      <td>Adelie</td>\n",
       "      <td>Torgersen</td>\n",
       "      <td>39.1</td>\n",
       "      <td>18.7</td>\n",
       "      <td>181.0</td>\n",
       "      <td>3750.0</td>\n",
       "      <td>Male</td>\n",
       "      <td>False</td>\n",
       "    </tr>\n",
       "    <tr>\n",
       "      <th>1</th>\n",
       "      <td>Adelie</td>\n",
       "      <td>Torgersen</td>\n",
       "      <td>39.5</td>\n",
       "      <td>17.4</td>\n",
       "      <td>186.0</td>\n",
       "      <td>3800.0</td>\n",
       "      <td>Female</td>\n",
       "      <td>False</td>\n",
       "    </tr>\n",
       "    <tr>\n",
       "      <th>2</th>\n",
       "      <td>Adelie</td>\n",
       "      <td>Torgersen</td>\n",
       "      <td>40.3</td>\n",
       "      <td>18.0</td>\n",
       "      <td>195.0</td>\n",
       "      <td>3250.0</td>\n",
       "      <td>Female</td>\n",
       "      <td>False</td>\n",
       "    </tr>\n",
       "    <tr>\n",
       "      <th>3</th>\n",
       "      <td>Adelie</td>\n",
       "      <td>Torgersen</td>\n",
       "      <td>NaN</td>\n",
       "      <td>NaN</td>\n",
       "      <td>NaN</td>\n",
       "      <td>NaN</td>\n",
       "      <td>NaN</td>\n",
       "      <td>False</td>\n",
       "    </tr>\n",
       "    <tr>\n",
       "      <th>4</th>\n",
       "      <td>Adelie</td>\n",
       "      <td>Torgersen</td>\n",
       "      <td>36.7</td>\n",
       "      <td>19.3</td>\n",
       "      <td>193.0</td>\n",
       "      <td>3450.0</td>\n",
       "      <td>Female</td>\n",
       "      <td>False</td>\n",
       "    </tr>\n",
       "  </tbody>\n",
       "</table>\n",
       "</div>"
      ],
      "text/plain": [
       "  species     island  bill_length_mm  bill_depth_mm  flipper_length_mm  \\\n",
       "0  Adelie  Torgersen            39.1           18.7              181.0   \n",
       "1  Adelie  Torgersen            39.5           17.4              186.0   \n",
       "2  Adelie  Torgersen            40.3           18.0              195.0   \n",
       "3  Adelie  Torgersen             NaN            NaN                NaN   \n",
       "4  Adelie  Torgersen            36.7           19.3              193.0   \n",
       "\n",
       "   body_mass_g     sex  is_heavier  \n",
       "0       3750.0    Male       False  \n",
       "1       3800.0  Female       False  \n",
       "2       3250.0  Female       False  \n",
       "3          NaN     NaN       False  \n",
       "4       3450.0  Female       False  "
      ]
     },
     "execution_count": 8,
     "metadata": {},
     "output_type": "execute_result"
    }
   ],
   "source": [
    "# create the new variable\n",
    "# do you see any problems below?\n",
    "df_penguins['is_heavier'] = df_penguins['body_mass_g'] >  df_penguins[\"body_mass_g\"].mean()\n",
    "df_penguins.head()"
   ]
  },
  {
   "cell_type": "code",
   "execution_count": 9,
   "id": "2d587536-5dc0-428d-86bd-712cf8a7ffc3",
   "metadata": {},
   "outputs": [],
   "source": [
    "# fix the problem here!\n",
    "df_penguins.dropna(inplace=True)\n",
    "df_penguins.reset_index(inplace=True, drop=True)"
   ]
  },
  {
   "cell_type": "markdown",
   "id": "076809ca-ce7e-4a51-884c-4174db1f9af3",
   "metadata": {},
   "source": [
    "Now what I *care* about is how well I predict my new variable ```is_heavier```. I no longer care about $R^2$ but maybe about **Accuracy** which is the ratio of correct predictions with the total amount of predictions."
   ]
  },
  {
   "cell_type": "code",
   "execution_count": 10,
   "id": "e061c4f7-9ae4-4352-8c58-975d3dcc8791",
   "metadata": {},
   "outputs": [
    {
     "data": {
      "text/plain": [
       "0    3211.617868\n",
       "1    3438.564312\n",
       "2    3906.346483\n",
       "3    3816.889879\n",
       "4    3702.967340\n",
       "dtype: float64"
      ]
     },
     "execution_count": 10,
     "metadata": {},
     "output_type": "execute_result"
    }
   ],
   "source": [
    "# let's see how accurate this model is\n",
    "y_pred = res.predict(df_penguins)\n",
    "y_pred.head()"
   ]
  },
  {
   "cell_type": "code",
   "execution_count": 11,
   "id": "d8c749a5-27aa-4903-a5e7-bc2d28ec93a5",
   "metadata": {},
   "outputs": [
    {
     "data": {
      "text/plain": [
       "0    False\n",
       "1    False\n",
       "2    False\n",
       "3    False\n",
       "4    False\n",
       "dtype: bool"
      ]
     },
     "execution_count": 11,
     "metadata": {},
     "output_type": "execute_result"
    }
   ],
   "source": [
    "y_pred = y_pred > df_penguins[\"body_mass_g\"].mean()\n",
    "y_pred.head()"
   ]
  },
  {
   "cell_type": "code",
   "execution_count": 12,
   "id": "b6270fa6-cf68-469c-8589-a07d89f032c0",
   "metadata": {},
   "outputs": [
    {
     "name": "stdout",
     "output_type": "stream",
     "text": [
      "This model has accuracy: 86.48648648648648%\n"
     ]
    }
   ],
   "source": [
    "# number of correct predictions\n",
    "# think about why!\n",
    "correct = sum(y_pred == df_penguins['is_heavier'])\n",
    "accuracy = correct / len(y_pred)\n",
    "print(f'This model has accuracy: {100*accuracy}%')"
   ]
  },
  {
   "cell_type": "markdown",
   "id": "f0432951-a389-467a-85bd-2e05cfc2d145",
   "metadata": {},
   "source": [
    "- Nothing about the model has changed. Notice how the metric we use determines how we feel about the model.\n",
    "- Other important metrics surround classification are **Precision** and **Recall** (More on this next week).\n",
    "- The Confusion Matrix is very helpful to understand why a binary classification model might be classifying things the way it is."
   ]
  },
  {
   "cell_type": "code",
   "execution_count": 13,
   "id": "cd589944-c255-4d52-8946-0f732e8c50d4",
   "metadata": {},
   "outputs": [],
   "source": [
    "# seaborn confusion matrix"
   ]
  },
  {
   "cell_type": "markdown",
   "id": "eb2567e3-7d2d-48f4-b7ee-8cf5fc511a70",
   "metadata": {},
   "source": [
    "- Well how can we improve this model?\n",
    "\n",
    "## Feature Engineering\n",
    "- We can think of what we did in Lab 2 as Feature Engineering."
   ]
  },
  {
   "cell_type": "code",
   "execution_count": 14,
   "id": "17360528-1b21-429f-bca0-81d8fe29bbb7",
   "metadata": {},
   "outputs": [
    {
     "data": {
      "text/html": [
       "<div>\n",
       "<style scoped>\n",
       "    .dataframe tbody tr th:only-of-type {\n",
       "        vertical-align: middle;\n",
       "    }\n",
       "\n",
       "    .dataframe tbody tr th {\n",
       "        vertical-align: top;\n",
       "    }\n",
       "\n",
       "    .dataframe thead th {\n",
       "        text-align: right;\n",
       "    }\n",
       "</style>\n",
       "<table border=\"1\" class=\"dataframe\">\n",
       "  <thead>\n",
       "    <tr style=\"text-align: right;\">\n",
       "      <th></th>\n",
       "      <th>species</th>\n",
       "      <th>island</th>\n",
       "      <th>bill_length_mm</th>\n",
       "      <th>bill_depth_mm</th>\n",
       "      <th>flipper_length_mm</th>\n",
       "      <th>body_mass_g</th>\n",
       "      <th>sex</th>\n",
       "      <th>is_heavier</th>\n",
       "      <th>is_male</th>\n",
       "    </tr>\n",
       "  </thead>\n",
       "  <tbody>\n",
       "    <tr>\n",
       "      <th>0</th>\n",
       "      <td>Adelie</td>\n",
       "      <td>Torgersen</td>\n",
       "      <td>39.1</td>\n",
       "      <td>18.7</td>\n",
       "      <td>181.0</td>\n",
       "      <td>3750.0</td>\n",
       "      <td>Male</td>\n",
       "      <td>False</td>\n",
       "      <td>1</td>\n",
       "    </tr>\n",
       "    <tr>\n",
       "      <th>1</th>\n",
       "      <td>Adelie</td>\n",
       "      <td>Torgersen</td>\n",
       "      <td>39.5</td>\n",
       "      <td>17.4</td>\n",
       "      <td>186.0</td>\n",
       "      <td>3800.0</td>\n",
       "      <td>Female</td>\n",
       "      <td>False</td>\n",
       "      <td>0</td>\n",
       "    </tr>\n",
       "    <tr>\n",
       "      <th>2</th>\n",
       "      <td>Adelie</td>\n",
       "      <td>Torgersen</td>\n",
       "      <td>40.3</td>\n",
       "      <td>18.0</td>\n",
       "      <td>195.0</td>\n",
       "      <td>3250.0</td>\n",
       "      <td>Female</td>\n",
       "      <td>False</td>\n",
       "      <td>0</td>\n",
       "    </tr>\n",
       "    <tr>\n",
       "      <th>3</th>\n",
       "      <td>Adelie</td>\n",
       "      <td>Torgersen</td>\n",
       "      <td>36.7</td>\n",
       "      <td>19.3</td>\n",
       "      <td>193.0</td>\n",
       "      <td>3450.0</td>\n",
       "      <td>Female</td>\n",
       "      <td>False</td>\n",
       "      <td>0</td>\n",
       "    </tr>\n",
       "    <tr>\n",
       "      <th>4</th>\n",
       "      <td>Adelie</td>\n",
       "      <td>Torgersen</td>\n",
       "      <td>39.3</td>\n",
       "      <td>20.6</td>\n",
       "      <td>190.0</td>\n",
       "      <td>3650.0</td>\n",
       "      <td>Male</td>\n",
       "      <td>False</td>\n",
       "      <td>1</td>\n",
       "    </tr>\n",
       "  </tbody>\n",
       "</table>\n",
       "</div>"
      ],
      "text/plain": [
       "  species     island  bill_length_mm  bill_depth_mm  flipper_length_mm  \\\n",
       "0  Adelie  Torgersen            39.1           18.7              181.0   \n",
       "1  Adelie  Torgersen            39.5           17.4              186.0   \n",
       "2  Adelie  Torgersen            40.3           18.0              195.0   \n",
       "3  Adelie  Torgersen            36.7           19.3              193.0   \n",
       "4  Adelie  Torgersen            39.3           20.6              190.0   \n",
       "\n",
       "   body_mass_g     sex  is_heavier  is_male  \n",
       "0       3750.0    Male       False        1  \n",
       "1       3800.0  Female       False        0  \n",
       "2       3250.0  Female       False        0  \n",
       "3       3450.0  Female       False        0  \n",
       "4       3650.0    Male       False        1  "
      ]
     },
     "execution_count": 14,
     "metadata": {},
     "output_type": "execute_result"
    }
   ],
   "source": [
    "df_penguins['is_male'] = df_penguins['sex'].apply(lambda x : int(x == 'Male'))\n",
    "df_penguins.head()"
   ]
  },
  {
   "cell_type": "code",
   "execution_count": 15,
   "id": "a7ba6e4b-54ea-453d-bb2d-2361f4b7b084",
   "metadata": {},
   "outputs": [
    {
     "name": "stdout",
     "output_type": "stream",
     "text": [
      "This model has accuracy: 86.78678678678679%\n"
     ]
    }
   ],
   "source": [
    "# fit the model\n",
    "model = ols(formula = 'body_mass_g ~ flipper_length_mm + bill_depth_mm + bill_length_mm', data=df_penguins)\n",
    "res = model.fit()\n",
    "\n",
    "# predict\n",
    "y_pred = res.predict(df_penguins)\n",
    "y_pred = y_pred > df_penguins[\"body_mass_g\"].mean()\n",
    "\n",
    "# evaluate\n",
    "correct = sum(y_pred == df_penguins['is_heavier'])\n",
    "accuracy = correct / len(y_pred)\n",
    "print(f'This model has accuracy: {100*accuracy}%')"
   ]
  },
  {
   "cell_type": "markdown",
   "id": "813c55d3-7310-476d-a1e1-76c5d1659ee4",
   "metadata": {},
   "source": [
    "Let's go back to the Ads dataset."
   ]
  },
  {
   "cell_type": "code",
   "execution_count": 16,
   "id": "afabbab0-d7d8-454f-a050-01dca28f2f39",
   "metadata": {},
   "outputs": [
    {
     "data": {
      "text/html": [
       "<div>\n",
       "<style scoped>\n",
       "    .dataframe tbody tr th:only-of-type {\n",
       "        vertical-align: middle;\n",
       "    }\n",
       "\n",
       "    .dataframe tbody tr th {\n",
       "        vertical-align: top;\n",
       "    }\n",
       "\n",
       "    .dataframe thead th {\n",
       "        text-align: right;\n",
       "    }\n",
       "</style>\n",
       "<table border=\"1\" class=\"dataframe\">\n",
       "  <thead>\n",
       "    <tr style=\"text-align: right;\">\n",
       "      <th></th>\n",
       "      <th>TV</th>\n",
       "      <th>radio</th>\n",
       "      <th>newspaper</th>\n",
       "      <th>sales</th>\n",
       "    </tr>\n",
       "  </thead>\n",
       "  <tbody>\n",
       "    <tr>\n",
       "      <th>0</th>\n",
       "      <td>230.1</td>\n",
       "      <td>37.8</td>\n",
       "      <td>69.2</td>\n",
       "      <td>22.1</td>\n",
       "    </tr>\n",
       "    <tr>\n",
       "      <th>1</th>\n",
       "      <td>44.5</td>\n",
       "      <td>39.3</td>\n",
       "      <td>45.1</td>\n",
       "      <td>10.4</td>\n",
       "    </tr>\n",
       "    <tr>\n",
       "      <th>2</th>\n",
       "      <td>17.2</td>\n",
       "      <td>45.9</td>\n",
       "      <td>69.3</td>\n",
       "      <td>9.3</td>\n",
       "    </tr>\n",
       "    <tr>\n",
       "      <th>3</th>\n",
       "      <td>151.5</td>\n",
       "      <td>41.3</td>\n",
       "      <td>58.5</td>\n",
       "      <td>18.5</td>\n",
       "    </tr>\n",
       "    <tr>\n",
       "      <th>4</th>\n",
       "      <td>180.8</td>\n",
       "      <td>10.8</td>\n",
       "      <td>58.4</td>\n",
       "      <td>12.9</td>\n",
       "    </tr>\n",
       "  </tbody>\n",
       "</table>\n",
       "</div>"
      ],
      "text/plain": [
       "      TV  radio  newspaper  sales\n",
       "0  230.1   37.8       69.2   22.1\n",
       "1   44.5   39.3       45.1   10.4\n",
       "2   17.2   45.9       69.3    9.3\n",
       "3  151.5   41.3       58.5   18.5\n",
       "4  180.8   10.8       58.4   12.9"
      ]
     },
     "execution_count": 16,
     "metadata": {},
     "output_type": "execute_result"
    }
   ],
   "source": [
    "df_ads = pd.read_csv('data/Advertising.csv')\n",
    "df_ads.head()"
   ]
  },
  {
   "cell_type": "markdown",
   "id": "cb6d9fac-5852-43e6-bc65-1584785e914b",
   "metadata": {},
   "source": [
    "We want to predict sales so let's look at that bottom row."
   ]
  },
  {
   "cell_type": "code",
   "execution_count": 17,
   "id": "a6e461bc-174c-41f2-b012-8b801a5cf9b1",
   "metadata": {},
   "outputs": [
    {
     "data": {
      "text/plain": [
       "<seaborn.axisgrid.PairGrid at 0x7facde18a5b0>"
      ]
     },
     "execution_count": 17,
     "metadata": {},
     "output_type": "execute_result"
    },
    {
     "data": {
      "image/png": "[encoded data removed]",
      "text/plain": [
       "<Figure size 720x720 with 20 Axes>"
      ]
     },
     "metadata": {
      "needs_background": "light"
     },
     "output_type": "display_data"
    }
   ],
   "source": [
    "sns.pairplot(df_ads)"
   ]
  },
  {
   "cell_type": "code",
   "execution_count": 18,
   "id": "c574b167-216a-4f4e-a8ef-33e12c9e42c0",
   "metadata": {},
   "outputs": [
    {
     "data": {
      "image/png": "[encoded data removed]",
      "text/plain": [
       "<Figure size 432x288 with 1 Axes>"
      ]
     },
     "metadata": {
      "needs_background": "light"
     },
     "output_type": "display_data"
    },
    {
     "data": {
      "image/png": "[encoded data removed]",
      "text/plain": [
       "<Figure size 432x288 with 1 Axes>"
      ]
     },
     "metadata": {
      "needs_background": "light"
     },
     "output_type": "display_data"
    }
   ],
   "source": [
    "# tv isn't exactly linear, but looks more like a square root function\n",
    "df_ads['TV_root'] = df_ads['TV']**(1/3)\n",
    "\n",
    "plt.scatter(x=df_ads['TV'], y=df_ads['sales'])\n",
    "plt.title('TV vs. Sales')\n",
    "plt.show()\n",
    "\n",
    "plt.scatter(x=df_ads['TV_root'], y=df_ads['sales'])\n",
    "plt.title('Root of TV vs. Sales')\n",
    "plt.show()"
   ]
  },
  {
   "cell_type": "code",
   "execution_count": 19,
   "id": "134def65-f71b-4698-b27e-217ca9b0b58e",
   "metadata": {},
   "outputs": [
    {
     "data": {
      "text/html": [
       "<div>\n",
       "<style scoped>\n",
       "    .dataframe tbody tr th:only-of-type {\n",
       "        vertical-align: middle;\n",
       "    }\n",
       "\n",
       "    .dataframe tbody tr th {\n",
       "        vertical-align: top;\n",
       "    }\n",
       "\n",
       "    .dataframe thead th {\n",
       "        text-align: right;\n",
       "    }\n",
       "</style>\n",
       "<table border=\"1\" class=\"dataframe\">\n",
       "  <thead>\n",
       "    <tr style=\"text-align: right;\">\n",
       "      <th></th>\n",
       "      <th>TV</th>\n",
       "      <th>radio</th>\n",
       "      <th>newspaper</th>\n",
       "      <th>sales</th>\n",
       "      <th>TV_root</th>\n",
       "    </tr>\n",
       "  </thead>\n",
       "  <tbody>\n",
       "    <tr>\n",
       "      <th>TV</th>\n",
       "      <td>1.000000</td>\n",
       "      <td>0.054809</td>\n",
       "      <td>0.056648</td>\n",
       "      <td>0.782224</td>\n",
       "      <td>0.962280</td>\n",
       "    </tr>\n",
       "    <tr>\n",
       "      <th>radio</th>\n",
       "      <td>0.054809</td>\n",
       "      <td>1.000000</td>\n",
       "      <td>0.354104</td>\n",
       "      <td>0.576223</td>\n",
       "      <td>0.017928</td>\n",
       "    </tr>\n",
       "    <tr>\n",
       "      <th>newspaper</th>\n",
       "      <td>0.056648</td>\n",
       "      <td>0.354104</td>\n",
       "      <td>1.000000</td>\n",
       "      <td>0.228299</td>\n",
       "      <td>0.041168</td>\n",
       "    </tr>\n",
       "    <tr>\n",
       "      <th>sales</th>\n",
       "      <td>0.782224</td>\n",
       "      <td>0.576223</td>\n",
       "      <td>0.228299</td>\n",
       "      <td>1.000000</td>\n",
       "      <td>0.784504</td>\n",
       "    </tr>\n",
       "    <tr>\n",
       "      <th>TV_root</th>\n",
       "      <td>0.962280</td>\n",
       "      <td>0.017928</td>\n",
       "      <td>0.041168</td>\n",
       "      <td>0.784504</td>\n",
       "      <td>1.000000</td>\n",
       "    </tr>\n",
       "  </tbody>\n",
       "</table>\n",
       "</div>"
      ],
      "text/plain": [
       "                 TV     radio  newspaper     sales   TV_root\n",
       "TV         1.000000  0.054809   0.056648  0.782224  0.962280\n",
       "radio      0.054809  1.000000   0.354104  0.576223  0.017928\n",
       "newspaper  0.056648  0.354104   1.000000  0.228299  0.041168\n",
       "sales      0.782224  0.576223   0.228299  1.000000  0.784504\n",
       "TV_root    0.962280  0.017928   0.041168  0.784504  1.000000"
      ]
     },
     "execution_count": 19,
     "metadata": {},
     "output_type": "execute_result"
    }
   ],
   "source": [
    "# we see slight improvement in the correlation matrix\n",
    "df_ads.corr()"
   ]
  },
  {
   "cell_type": "code",
   "execution_count": 20,
   "id": "4d1c93be-d0ed-4edc-aff8-3d0245a728ea",
   "metadata": {},
   "outputs": [
    {
     "name": "stdout",
     "output_type": "stream",
     "text": [
      " The R^2 using TV is 0.611875050850071\n",
      " The R^2 using square root of TV is 0.6154472831191032\n"
     ]
    }
   ],
   "source": [
    "model = ols(formula = 'sales ~ TV', data=df_ads)\n",
    "res = model.fit()\n",
    "print(f' The R^2 using TV is {res.rsquared}')\n",
    "\n",
    "model = ols(formula = 'sales ~ TV_root', data=df_ads)\n",
    "res = model.fit()\n",
    "print(f' The R^2 using square root of TV is {res.rsquared}')"
   ]
  },
  {
   "cell_type": "markdown",
   "id": "5c003dfa-857c-45af-a972-4c8c1664bfb1",
   "metadata": {},
   "source": [
    "Polynomial Regression is just linear regression with new features!\n",
    "\n",
    "$$\n",
    "Y = \\beta_0 + \\beta_1 X + \\beta_2 X^2\n",
    "$$"
   ]
  },
  {
   "cell_type": "code",
   "execution_count": 21,
   "id": "95611281-97c6-4e2f-ae07-e41a4f974e72",
   "metadata": {},
   "outputs": [
    {
     "data": {
      "text/html": [
       "<div>\n",
       "<style scoped>\n",
       "    .dataframe tbody tr th:only-of-type {\n",
       "        vertical-align: middle;\n",
       "    }\n",
       "\n",
       "    .dataframe tbody tr th {\n",
       "        vertical-align: top;\n",
       "    }\n",
       "\n",
       "    .dataframe thead th {\n",
       "        text-align: right;\n",
       "    }\n",
       "</style>\n",
       "<table border=\"1\" class=\"dataframe\">\n",
       "  <thead>\n",
       "    <tr style=\"text-align: right;\">\n",
       "      <th></th>\n",
       "      <th>pickup</th>\n",
       "      <th>dropoff</th>\n",
       "      <th>passengers</th>\n",
       "      <th>distance</th>\n",
       "      <th>fare</th>\n",
       "      <th>tip</th>\n",
       "      <th>tolls</th>\n",
       "      <th>total</th>\n",
       "      <th>color</th>\n",
       "      <th>payment</th>\n",
       "      <th>pickup_zone</th>\n",
       "      <th>dropoff_zone</th>\n",
       "      <th>pickup_borough</th>\n",
       "      <th>dropoff_borough</th>\n",
       "    </tr>\n",
       "  </thead>\n",
       "  <tbody>\n",
       "    <tr>\n",
       "      <th>0</th>\n",
       "      <td>2019-03-23 20:21:09</td>\n",
       "      <td>2019-03-23 20:27:24</td>\n",
       "      <td>1</td>\n",
       "      <td>1.60</td>\n",
       "      <td>7.0</td>\n",
       "      <td>2.15</td>\n",
       "      <td>0.0</td>\n",
       "      <td>12.95</td>\n",
       "      <td>yellow</td>\n",
       "      <td>credit card</td>\n",
       "      <td>Lenox Hill West</td>\n",
       "      <td>UN/Turtle Bay South</td>\n",
       "      <td>Manhattan</td>\n",
       "      <td>Manhattan</td>\n",
       "    </tr>\n",
       "    <tr>\n",
       "      <th>1</th>\n",
       "      <td>2019-03-04 16:11:55</td>\n",
       "      <td>2019-03-04 16:19:00</td>\n",
       "      <td>1</td>\n",
       "      <td>0.79</td>\n",
       "      <td>5.0</td>\n",
       "      <td>0.00</td>\n",
       "      <td>0.0</td>\n",
       "      <td>9.30</td>\n",
       "      <td>yellow</td>\n",
       "      <td>cash</td>\n",
       "      <td>Upper West Side South</td>\n",
       "      <td>Upper West Side South</td>\n",
       "      <td>Manhattan</td>\n",
       "      <td>Manhattan</td>\n",
       "    </tr>\n",
       "    <tr>\n",
       "      <th>2</th>\n",
       "      <td>2019-03-27 17:53:01</td>\n",
       "      <td>2019-03-27 18:00:25</td>\n",
       "      <td>1</td>\n",
       "      <td>1.37</td>\n",
       "      <td>7.5</td>\n",
       "      <td>2.36</td>\n",
       "      <td>0.0</td>\n",
       "      <td>14.16</td>\n",
       "      <td>yellow</td>\n",
       "      <td>credit card</td>\n",
       "      <td>Alphabet City</td>\n",
       "      <td>West Village</td>\n",
       "      <td>Manhattan</td>\n",
       "      <td>Manhattan</td>\n",
       "    </tr>\n",
       "    <tr>\n",
       "      <th>3</th>\n",
       "      <td>2019-03-10 01:23:59</td>\n",
       "      <td>2019-03-10 01:49:51</td>\n",
       "      <td>1</td>\n",
       "      <td>7.70</td>\n",
       "      <td>27.0</td>\n",
       "      <td>6.15</td>\n",
       "      <td>0.0</td>\n",
       "      <td>36.95</td>\n",
       "      <td>yellow</td>\n",
       "      <td>credit card</td>\n",
       "      <td>Hudson Sq</td>\n",
       "      <td>Yorkville West</td>\n",
       "      <td>Manhattan</td>\n",
       "      <td>Manhattan</td>\n",
       "    </tr>\n",
       "    <tr>\n",
       "      <th>4</th>\n",
       "      <td>2019-03-30 13:27:42</td>\n",
       "      <td>2019-03-30 13:37:14</td>\n",
       "      <td>3</td>\n",
       "      <td>2.16</td>\n",
       "      <td>9.0</td>\n",
       "      <td>1.10</td>\n",
       "      <td>0.0</td>\n",
       "      <td>13.40</td>\n",
       "      <td>yellow</td>\n",
       "      <td>credit card</td>\n",
       "      <td>Midtown East</td>\n",
       "      <td>Yorkville West</td>\n",
       "      <td>Manhattan</td>\n",
       "      <td>Manhattan</td>\n",
       "    </tr>\n",
       "  </tbody>\n",
       "</table>\n",
       "</div>"
      ],
      "text/plain": [
       "                pickup              dropoff  passengers  distance  fare   tip  \\\n",
       "0  2019-03-23 20:21:09  2019-03-23 20:27:24           1      1.60   7.0  2.15   \n",
       "1  2019-03-04 16:11:55  2019-03-04 16:19:00           1      0.79   5.0  0.00   \n",
       "2  2019-03-27 17:53:01  2019-03-27 18:00:25           1      1.37   7.5  2.36   \n",
       "3  2019-03-10 01:23:59  2019-03-10 01:49:51           1      7.70  27.0  6.15   \n",
       "4  2019-03-30 13:27:42  2019-03-30 13:37:14           3      2.16   9.0  1.10   \n",
       "\n",
       "   tolls  total   color      payment            pickup_zone  \\\n",
       "0    0.0  12.95  yellow  credit card        Lenox Hill West   \n",
       "1    0.0   9.30  yellow         cash  Upper West Side South   \n",
       "2    0.0  14.16  yellow  credit card          Alphabet City   \n",
       "3    0.0  36.95  yellow  credit card              Hudson Sq   \n",
       "4    0.0  13.40  yellow  credit card           Midtown East   \n",
       "\n",
       "            dropoff_zone pickup_borough dropoff_borough  \n",
       "0    UN/Turtle Bay South      Manhattan       Manhattan  \n",
       "1  Upper West Side South      Manhattan       Manhattan  \n",
       "2           West Village      Manhattan       Manhattan  \n",
       "3         Yorkville West      Manhattan       Manhattan  \n",
       "4         Yorkville West      Manhattan       Manhattan  "
      ]
     },
     "execution_count": 21,
     "metadata": {},
     "output_type": "execute_result"
    }
   ],
   "source": [
    "# the dataset you will working with for HW2\n",
    "df_taxis = sns.load_dataset('taxis')\n",
    "df_taxis.head()"
   ]
  },
  {
   "cell_type": "code",
   "execution_count": 22,
   "id": "1423593e-a146-4d90-8057-28190ff0ea44",
   "metadata": {},
   "outputs": [
    {
     "data": {
      "text/plain": [
       "0    2019-03-23 20:21:09\n",
       "1    2019-03-04 16:11:55\n",
       "2    2019-03-27 17:53:01\n",
       "3    2019-03-10 01:23:59\n",
       "4    2019-03-30 13:27:42\n",
       "Name: pickup, dtype: object"
      ]
     },
     "execution_count": 22,
     "metadata": {},
     "output_type": "execute_result"
    }
   ],
   "source": [
    "df_taxis['pickup'].head()"
   ]
  },
  {
   "cell_type": "code",
   "execution_count": 23,
   "id": "5ef5926d-a689-4ffc-83c7-3fc9237419f2",
   "metadata": {},
   "outputs": [
    {
     "data": {
      "text/plain": [
       "0      2019-03-23 20:21:09\n",
       "1      2019-03-04 16:11:55\n",
       "2      2019-03-27 17:53:01\n",
       "3      2019-03-10 01:23:59\n",
       "4      2019-03-30 13:27:42\n",
       "               ...        \n",
       "6428   2019-03-31 09:51:53\n",
       "6429   2019-03-31 17:38:00\n",
       "6430   2019-03-23 22:55:18\n",
       "6431   2019-03-04 10:09:25\n",
       "6432   2019-03-13 19:31:22\n",
       "Name: pickup, Length: 6433, dtype: datetime64[ns]"
      ]
     },
     "execution_count": 23,
     "metadata": {},
     "output_type": "execute_result"
    }
   ],
   "source": [
    "# time datatype!\n",
    "pd.to_datetime(df_taxis['pickup'])"
   ]
  },
  {
   "cell_type": "code",
   "execution_count": 24,
   "id": "979840d8-906e-434b-bf92-9a4f89db92bf",
   "metadata": {},
   "outputs": [
    {
     "data": {
      "text/plain": [
       "0      0 days 00:06:15\n",
       "1      0 days 00:07:05\n",
       "2      0 days 00:07:24\n",
       "3      0 days 00:25:52\n",
       "4      0 days 00:09:32\n",
       "             ...      \n",
       "6428   0 days 00:03:34\n",
       "6429   0 days 00:56:23\n",
       "6430   0 days 00:19:07\n",
       "6431   0 days 00:05:04\n",
       "6432   0 days 00:16:40\n",
       "Length: 6433, dtype: timedelta64[ns]"
      ]
     },
     "execution_count": 24,
     "metadata": {},
     "output_type": "execute_result"
    }
   ],
   "source": [
    "# time delta\n",
    "pd.to_datetime(df_taxis['dropoff']) - pd.to_datetime(df_taxis['pickup'])"
   ]
  },
  {
   "cell_type": "code",
   "execution_count": 25,
   "id": "a5f09ed8-80ac-41b1-baf1-398aff220d0d",
   "metadata": {},
   "outputs": [
    {
     "data": {
      "text/plain": [
       "0      0 days 00:06:15\n",
       "1      0 days 00:07:05\n",
       "2      0 days 00:07:24\n",
       "3      0 days 00:25:52\n",
       "4      0 days 00:09:32\n",
       "             ...      \n",
       "6428   0 days 00:03:34\n",
       "6429   0 days 00:56:23\n",
       "6430   0 days 00:19:07\n",
       "6431   0 days 00:05:04\n",
       "6432   0 days 00:16:40\n",
       "Length: 6433, dtype: timedelta64[ns]"
      ]
     },
     "execution_count": 25,
     "metadata": {},
     "output_type": "execute_result"
    }
   ],
   "source": [
    "delta = pd.to_datetime(df_taxis['dropoff']) - pd.to_datetime(df_taxis['pickup'])\n",
    "delta"
   ]
  },
  {
   "cell_type": "code",
   "execution_count": 26,
   "id": "dc8598e2-4eeb-46b8-a233-43e07a39e3ea",
   "metadata": {},
   "outputs": [],
   "source": [
    "# here's a new feature: length of trip!\n",
    "# converting to minutes\n",
    "df_taxis['length_of_trip'] = delta / pd.Timedelta('60s')"
   ]
  },
  {
   "cell_type": "code",
   "execution_count": 27,
   "id": "f74b86ec-93ce-48ac-a787-16210babad4d",
   "metadata": {},
   "outputs": [
    {
     "data": {
      "image/png": "[encoded data removed]",
      "text/plain": [
       "<Figure size 432x288 with 1 Axes>"
      ]
     },
     "metadata": {
      "needs_background": "light"
     },
     "output_type": "display_data"
    }
   ],
   "source": [
    "plt.scatter(x=df_taxis['length_of_trip'], y=df_taxis['total'])\n",
    "plt.show()"
   ]
  },
  {
   "cell_type": "markdown",
   "id": "c31b048e-595c-4d9a-9954-549ac7434d56",
   "metadata": {},
   "source": [
    "How about a new categorical feature?"
   ]
  },
  {
   "cell_type": "code",
   "execution_count": 28,
   "id": "1d945478-a99d-40ba-b7e7-e3e8bc1a08a8",
   "metadata": {},
   "outputs": [
    {
     "data": {
      "text/plain": [
       "195"
      ]
     },
     "execution_count": 28,
     "metadata": {},
     "output_type": "execute_result"
    }
   ],
   "source": [
    "# wow there's a lot!\n",
    "len(df_taxis['pickup_zone'].unique())"
   ]
  },
  {
   "cell_type": "code",
   "execution_count": 29,
   "id": "cdd84582-e8f0-4f65-a98b-8b7187c695f2",
   "metadata": {},
   "outputs": [
    {
     "name": "stdout",
     "output_type": "stream",
     "text": [
      "[('Midtown Center', 230), ('Upper East Side South', 211), ('Penn Station/Madison Sq West', 210), ('Clinton East', 208), ('Midtown East', 198)]\n"
     ]
    }
   ],
   "source": [
    "# which is the most frequented?\n",
    "from collections import Counter\n",
    "\n",
    "sorted_list = Counter(df_taxis['pickup_zone']).most_common()\n",
    "print(sorted_list[:5])"
   ]
  },
  {
   "cell_type": "code",
   "execution_count": 30,
   "id": "877cbdd3-c1b8-4255-b317-f776f04dbedc",
   "metadata": {},
   "outputs": [
    {
     "data": {
      "text/html": [
       "<div>\n",
       "<style scoped>\n",
       "    .dataframe tbody tr th:only-of-type {\n",
       "        vertical-align: middle;\n",
       "    }\n",
       "\n",
       "    .dataframe tbody tr th {\n",
       "        vertical-align: top;\n",
       "    }\n",
       "\n",
       "    .dataframe thead th {\n",
       "        text-align: right;\n",
       "    }\n",
       "</style>\n",
       "<table border=\"1\" class=\"dataframe\">\n",
       "  <thead>\n",
       "    <tr style=\"text-align: right;\">\n",
       "      <th></th>\n",
       "      <th>pickup</th>\n",
       "      <th>dropoff</th>\n",
       "      <th>passengers</th>\n",
       "      <th>distance</th>\n",
       "      <th>fare</th>\n",
       "      <th>tip</th>\n",
       "      <th>tolls</th>\n",
       "      <th>total</th>\n",
       "      <th>color</th>\n",
       "      <th>payment</th>\n",
       "      <th>pickup_zone</th>\n",
       "      <th>dropoff_zone</th>\n",
       "      <th>pickup_borough</th>\n",
       "      <th>dropoff_borough</th>\n",
       "      <th>length_of_trip</th>\n",
       "      <th>pickup_zone_Midtown</th>\n",
       "    </tr>\n",
       "  </thead>\n",
       "  <tbody>\n",
       "    <tr>\n",
       "      <th>0</th>\n",
       "      <td>2019-03-23 20:21:09</td>\n",
       "      <td>2019-03-23 20:27:24</td>\n",
       "      <td>1</td>\n",
       "      <td>1.60</td>\n",
       "      <td>7.0</td>\n",
       "      <td>2.15</td>\n",
       "      <td>0.0</td>\n",
       "      <td>12.95</td>\n",
       "      <td>yellow</td>\n",
       "      <td>credit card</td>\n",
       "      <td>Lenox Hill West</td>\n",
       "      <td>UN/Turtle Bay South</td>\n",
       "      <td>Manhattan</td>\n",
       "      <td>Manhattan</td>\n",
       "      <td>6.250000</td>\n",
       "      <td>False</td>\n",
       "    </tr>\n",
       "    <tr>\n",
       "      <th>1</th>\n",
       "      <td>2019-03-04 16:11:55</td>\n",
       "      <td>2019-03-04 16:19:00</td>\n",
       "      <td>1</td>\n",
       "      <td>0.79</td>\n",
       "      <td>5.0</td>\n",
       "      <td>0.00</td>\n",
       "      <td>0.0</td>\n",
       "      <td>9.30</td>\n",
       "      <td>yellow</td>\n",
       "      <td>cash</td>\n",
       "      <td>Upper West Side South</td>\n",
       "      <td>Upper West Side South</td>\n",
       "      <td>Manhattan</td>\n",
       "      <td>Manhattan</td>\n",
       "      <td>7.083333</td>\n",
       "      <td>False</td>\n",
       "    </tr>\n",
       "    <tr>\n",
       "      <th>2</th>\n",
       "      <td>2019-03-27 17:53:01</td>\n",
       "      <td>2019-03-27 18:00:25</td>\n",
       "      <td>1</td>\n",
       "      <td>1.37</td>\n",
       "      <td>7.5</td>\n",
       "      <td>2.36</td>\n",
       "      <td>0.0</td>\n",
       "      <td>14.16</td>\n",
       "      <td>yellow</td>\n",
       "      <td>credit card</td>\n",
       "      <td>Alphabet City</td>\n",
       "      <td>West Village</td>\n",
       "      <td>Manhattan</td>\n",
       "      <td>Manhattan</td>\n",
       "      <td>7.400000</td>\n",
       "      <td>False</td>\n",
       "    </tr>\n",
       "    <tr>\n",
       "      <th>3</th>\n",
       "      <td>2019-03-10 01:23:59</td>\n",
       "      <td>2019-03-10 01:49:51</td>\n",
       "      <td>1</td>\n",
       "      <td>7.70</td>\n",
       "      <td>27.0</td>\n",
       "      <td>6.15</td>\n",
       "      <td>0.0</td>\n",
       "      <td>36.95</td>\n",
       "      <td>yellow</td>\n",
       "      <td>credit card</td>\n",
       "      <td>Hudson Sq</td>\n",
       "      <td>Yorkville West</td>\n",
       "      <td>Manhattan</td>\n",
       "      <td>Manhattan</td>\n",
       "      <td>25.866667</td>\n",
       "      <td>False</td>\n",
       "    </tr>\n",
       "    <tr>\n",
       "      <th>4</th>\n",
       "      <td>2019-03-30 13:27:42</td>\n",
       "      <td>2019-03-30 13:37:14</td>\n",
       "      <td>3</td>\n",
       "      <td>2.16</td>\n",
       "      <td>9.0</td>\n",
       "      <td>1.10</td>\n",
       "      <td>0.0</td>\n",
       "      <td>13.40</td>\n",
       "      <td>yellow</td>\n",
       "      <td>credit card</td>\n",
       "      <td>Midtown East</td>\n",
       "      <td>Yorkville West</td>\n",
       "      <td>Manhattan</td>\n",
       "      <td>Manhattan</td>\n",
       "      <td>9.533333</td>\n",
       "      <td>False</td>\n",
       "    </tr>\n",
       "  </tbody>\n",
       "</table>\n",
       "</div>"
      ],
      "text/plain": [
       "                pickup              dropoff  passengers  distance  fare   tip  \\\n",
       "0  2019-03-23 20:21:09  2019-03-23 20:27:24           1      1.60   7.0  2.15   \n",
       "1  2019-03-04 16:11:55  2019-03-04 16:19:00           1      0.79   5.0  0.00   \n",
       "2  2019-03-27 17:53:01  2019-03-27 18:00:25           1      1.37   7.5  2.36   \n",
       "3  2019-03-10 01:23:59  2019-03-10 01:49:51           1      7.70  27.0  6.15   \n",
       "4  2019-03-30 13:27:42  2019-03-30 13:37:14           3      2.16   9.0  1.10   \n",
       "\n",
       "   tolls  total   color      payment            pickup_zone  \\\n",
       "0    0.0  12.95  yellow  credit card        Lenox Hill West   \n",
       "1    0.0   9.30  yellow         cash  Upper West Side South   \n",
       "2    0.0  14.16  yellow  credit card          Alphabet City   \n",
       "3    0.0  36.95  yellow  credit card              Hudson Sq   \n",
       "4    0.0  13.40  yellow  credit card           Midtown East   \n",
       "\n",
       "            dropoff_zone pickup_borough dropoff_borough  length_of_trip  \\\n",
       "0    UN/Turtle Bay South      Manhattan       Manhattan        6.250000   \n",
       "1  Upper West Side South      Manhattan       Manhattan        7.083333   \n",
       "2           West Village      Manhattan       Manhattan        7.400000   \n",
       "3         Yorkville West      Manhattan       Manhattan       25.866667   \n",
       "4         Yorkville West      Manhattan       Manhattan        9.533333   \n",
       "\n",
       "   pickup_zone_Midtown  \n",
       "0                False  \n",
       "1                False  \n",
       "2                False  \n",
       "3                False  \n",
       "4                False  "
      ]
     },
     "execution_count": 30,
     "metadata": {},
     "output_type": "execute_result"
    }
   ],
   "source": [
    "df_taxis['pickup_zone_Midtown'] = df_taxis['pickup_zone'].apply(lambda x : x == 'Midtown Center')\n",
    "df_taxis.head()"
   ]
  },
  {
   "cell_type": "markdown",
   "id": "aaf0cdc2-dfc7-47b7-b7bc-274a12117fcd",
   "metadata": {},
   "source": [
    "## Outliers\n",
    "- Remember to be careful of outliers!\n",
    "- Below we have vote counts for various counties in Florida from the 2000 Presidential Election.\n",
    "\n",
    "Context:\n",
    "- In the 2000 USA Presidential election, Florida was the \"tipping point\" state for Bush, meaning that, after ranking the states by margin of victory, Florida was the state that gave Bush enough electoral votes to win the election.\n",
    "- Additionally, holding all other state results constant, if Gore had won Florida then the election would have flipped to Gore.\n",
    "- Also Bush only won the state by 537 votes out of a total 6,000,000 cast 😳"
   ]
  },
  {
   "cell_type": "code",
   "execution_count": 31,
   "id": "82c1afdb-2a09-4a8b-b46d-c0b9db78f1d8",
   "metadata": {},
   "outputs": [
    {
     "data": {
      "text/html": [
       "<div>\n",
       "<style scoped>\n",
       "    .dataframe tbody tr th:only-of-type {\n",
       "        vertical-align: middle;\n",
       "    }\n",
       "\n",
       "    .dataframe tbody tr th {\n",
       "        vertical-align: top;\n",
       "    }\n",
       "\n",
       "    .dataframe thead th {\n",
       "        text-align: right;\n",
       "    }\n",
       "</style>\n",
       "<table border=\"1\" class=\"dataframe\">\n",
       "  <thead>\n",
       "    <tr style=\"text-align: right;\">\n",
       "      <th></th>\n",
       "      <th>county</th>\n",
       "      <th>Al Gore</th>\n",
       "      <th>George W. Bush</th>\n",
       "      <th>Ralph Nader</th>\n",
       "      <th>Pat Buchanan</th>\n",
       "    </tr>\n",
       "  </thead>\n",
       "  <tbody>\n",
       "    <tr>\n",
       "      <th>0</th>\n",
       "      <td>ALACHUA</td>\n",
       "      <td>47365</td>\n",
       "      <td>34124</td>\n",
       "      <td>3226</td>\n",
       "      <td>262</td>\n",
       "    </tr>\n",
       "    <tr>\n",
       "      <th>1</th>\n",
       "      <td>BAKER</td>\n",
       "      <td>2392</td>\n",
       "      <td>5610</td>\n",
       "      <td>53</td>\n",
       "      <td>73</td>\n",
       "    </tr>\n",
       "    <tr>\n",
       "      <th>2</th>\n",
       "      <td>BAY</td>\n",
       "      <td>18850</td>\n",
       "      <td>38637</td>\n",
       "      <td>828</td>\n",
       "      <td>248</td>\n",
       "    </tr>\n",
       "    <tr>\n",
       "      <th>3</th>\n",
       "      <td>BRADFORD</td>\n",
       "      <td>3075</td>\n",
       "      <td>5414</td>\n",
       "      <td>84</td>\n",
       "      <td>65</td>\n",
       "    </tr>\n",
       "    <tr>\n",
       "      <th>4</th>\n",
       "      <td>BREVARD</td>\n",
       "      <td>97318</td>\n",
       "      <td>115185</td>\n",
       "      <td>4470</td>\n",
       "      <td>570</td>\n",
       "    </tr>\n",
       "    <tr>\n",
       "      <th>...</th>\n",
       "      <td>...</td>\n",
       "      <td>...</td>\n",
       "      <td>...</td>\n",
       "      <td>...</td>\n",
       "      <td>...</td>\n",
       "    </tr>\n",
       "    <tr>\n",
       "      <th>60</th>\n",
       "      <td>UNION</td>\n",
       "      <td>1407</td>\n",
       "      <td>2332</td>\n",
       "      <td>33</td>\n",
       "      <td>26</td>\n",
       "    </tr>\n",
       "    <tr>\n",
       "      <th>61</th>\n",
       "      <td>VOLUSIA</td>\n",
       "      <td>97304</td>\n",
       "      <td>82357</td>\n",
       "      <td>2910</td>\n",
       "      <td>396</td>\n",
       "    </tr>\n",
       "    <tr>\n",
       "      <th>62</th>\n",
       "      <td>WAKULLA</td>\n",
       "      <td>3838</td>\n",
       "      <td>4512</td>\n",
       "      <td>149</td>\n",
       "      <td>46</td>\n",
       "    </tr>\n",
       "    <tr>\n",
       "      <th>63</th>\n",
       "      <td>WALTON</td>\n",
       "      <td>5642</td>\n",
       "      <td>12182</td>\n",
       "      <td>265</td>\n",
       "      <td>120</td>\n",
       "    </tr>\n",
       "    <tr>\n",
       "      <th>64</th>\n",
       "      <td>WASHINGTON</td>\n",
       "      <td>2798</td>\n",
       "      <td>4994</td>\n",
       "      <td>93</td>\n",
       "      <td>88</td>\n",
       "    </tr>\n",
       "  </tbody>\n",
       "</table>\n",
       "<p>65 rows × 5 columns</p>\n",
       "</div>"
      ],
      "text/plain": [
       "        county  Al Gore  George W. Bush  Ralph Nader  Pat Buchanan\n",
       "0      ALACHUA    47365           34124         3226           262\n",
       "1        BAKER     2392            5610           53            73\n",
       "2          BAY    18850           38637          828           248\n",
       "3     BRADFORD     3075            5414           84            65\n",
       "4      BREVARD    97318          115185         4470           570\n",
       "..         ...      ...             ...          ...           ...\n",
       "60       UNION     1407            2332           33            26\n",
       "61     VOLUSIA    97304           82357         2910           396\n",
       "62     WAKULLA     3838            4512          149            46\n",
       "63      WALTON     5642           12182          265           120\n",
       "64  WASHINGTON     2798            4994           93            88\n",
       "\n",
       "[65 rows x 5 columns]"
      ]
     },
     "execution_count": 31,
     "metadata": {},
     "output_type": "execute_result"
    }
   ],
   "source": [
    "df_votes = pd.read_csv('data/2000FL_votes.csv')\n",
    "df_votes"
   ]
  },
  {
   "cell_type": "markdown",
   "id": "e493669a-3ca2-47be-81d2-96d5ca79fdd3",
   "metadata": {},
   "source": [
    "More context\n",
    "- Pat Buchanan was another conservative candidate with a similar platform as George W. Bush.\n",
    "- Counties with a large number of conservative voters would likely see more votes for both Bush and Buchanan\n",
    "- We can expect to see some correlation here between the two vote counts."
   ]
  },
  {
   "cell_type": "code",
   "execution_count": 32,
   "id": "76ed6413-733a-4a29-9095-b9d7db7087ca",
   "metadata": {},
   "outputs": [
    {
     "data": {
      "image/png": "[encoded data removed]",
      "text/plain": [
       "<Figure size 432x288 with 1 Axes>"
      ]
     },
     "metadata": {
      "needs_background": "light"
     },
     "output_type": "display_data"
    }
   ],
   "source": [
    "plt.scatter(x=df_votes['George W. Bush'], y=df_votes['Pat Buchanan'])\n",
    "plt.xlabel('Bush Votes')\n",
    "plt.ylabel('Buchanan Votes')\n",
    "plt.show()"
   ]
  },
  {
   "cell_type": "markdown",
   "id": "3012d8c5-e1ff-4e9a-8c50-8ca194944c41",
   "metadata": {},
   "source": [
    "Controversy!\n",
    "- But wait what is that?\n",
    "- The county of Palm Beach used what were called [Butterfly Ballots](https://upload.wikimedia.org/wikipedia/commons/4/4e/Butterfly_Ballot%2C_Florida_2000_%28large%29.jpg).\n",
    "- The claim is that many Gore voters accidentally voted for Pat Buchanan. (Research paper [here](https://www.gsb.stanford.edu/faculty-research/publications/butterfly-did-it-aberrant-vote-buchanan-palm-beach-county-florida) giving evidence for this claim)\n",
    "\n",
    "Pay attention to the confidence interval."
   ]
  },
  {
   "cell_type": "code",
   "execution_count": 33,
   "id": "6b938c50-6620-412d-8190-2e811fd62a2f",
   "metadata": {},
   "outputs": [
    {
     "data": {
      "image/png": "[encoded data removed]",
      "text/plain": [
       "<Figure size 360x360 with 1 Axes>"
      ]
     },
     "metadata": {
      "needs_background": "light"
     },
     "output_type": "display_data"
    }
   ],
   "source": [
    "sns.lmplot(x='George W. Bush', y='Pat Buchanan', data=df_votes)\n",
    "plt.show()"
   ]
  },
  {
   "cell_type": "code",
   "execution_count": 34,
   "id": "b0070c6f-1439-49bc-a978-130ccfaba0bb",
   "metadata": {},
   "outputs": [
    {
     "data": {
      "image/png": "[encoded data removed]",
      "text/plain": [
       "<Figure size 360x360 with 1 Axes>"
      ]
     },
     "metadata": {
      "needs_background": "light"
     },
     "output_type": "display_data"
    }
   ],
   "source": [
    "# remove palm beach\n",
    "df_votes_nopb = df_votes[df_votes['county'] != 'PALM BEACH']\n",
    "\n",
    "sns.lmplot(x='George W. Bush', y='Pat Buchanan', data=df_votes_nopb)\n",
    "\n",
    "# keep same x,y limits\n",
    "plt.xlim(min(df_votes['George W. Bush']), max(df_votes['George W. Bush']))\n",
    "plt.ylim(min(df_votes['Pat Buchanan']), max(df_votes['Pat Buchanan']))\n",
    "\n",
    "plt.show()"
   ]
  },
  {
   "cell_type": "code",
   "execution_count": 35,
   "id": "6b8626b6-3be5-4035-b9d7-10ed4e4ad7be",
   "metadata": {},
   "outputs": [
    {
     "data": {
      "text/html": [
       "<table class=\"simpletable\">\n",
       "<caption>OLS Regression Results</caption>\n",
       "<tr>\n",
       "  <th>Dep. Variable:</th>           <td>PB</td>        <th>  R-squared:         </th> <td>   0.470</td>\n",
       "</tr>\n",
       "<tr>\n",
       "  <th>Model:</th>                   <td>OLS</td>       <th>  Adj. R-squared:    </th> <td>   0.462</td>\n",
       "</tr>\n",
       "<tr>\n",
       "  <th>Method:</th>             <td>Least Squares</td>  <th>  F-statistic:       </th> <td>   55.86</td>\n",
       "</tr>\n",
       "<tr>\n",
       "  <th>Date:</th>             <td>Thu, 10 Mar 2022</td> <th>  Prob (F-statistic):</th> <td>2.97e-10</td>\n",
       "</tr>\n",
       "<tr>\n",
       "  <th>Time:</th>                 <td>20:05:29</td>     <th>  Log-Likelihood:    </th> <td> -468.75</td>\n",
       "</tr>\n",
       "<tr>\n",
       "  <th>No. Observations:</th>      <td>    65</td>      <th>  AIC:               </th> <td>   941.5</td>\n",
       "</tr>\n",
       "<tr>\n",
       "  <th>Df Residuals:</th>          <td>    63</td>      <th>  BIC:               </th> <td>   945.8</td>\n",
       "</tr>\n",
       "<tr>\n",
       "  <th>Df Model:</th>              <td>     1</td>      <th>                     </th>     <td> </td>   \n",
       "</tr>\n",
       "<tr>\n",
       "  <th>Covariance Type:</th>      <td>nonrobust</td>    <th>                     </th>     <td> </td>   \n",
       "</tr>\n",
       "</table>\n",
       "<table class=\"simpletable\">\n",
       "<tr>\n",
       "      <td></td>         <th>coef</th>     <th>std err</th>      <th>t</th>      <th>P>|t|</th>  <th>[0.025</th>    <th>0.975]</th>  \n",
       "</tr>\n",
       "<tr>\n",
       "  <th>Intercept</th> <td>    1.0329</td> <td>   53.677</td> <td>    0.019</td> <td> 0.985</td> <td> -106.233</td> <td>  108.299</td>\n",
       "</tr>\n",
       "<tr>\n",
       "  <th>GWB</th>       <td>    0.0064</td> <td>    0.001</td> <td>    7.474</td> <td> 0.000</td> <td>    0.005</td> <td>    0.008</td>\n",
       "</tr>\n",
       "</table>\n",
       "<table class=\"simpletable\">\n",
       "<tr>\n",
       "  <th>Omnibus:</th>       <td>122.940</td> <th>  Durbin-Watson:     </th> <td>   1.918</td>\n",
       "</tr>\n",
       "<tr>\n",
       "  <th>Prob(Omnibus):</th> <td> 0.000</td>  <th>  Jarque-Bera (JB):  </th> <td>5601.188</td>\n",
       "</tr>\n",
       "<tr>\n",
       "  <th>Skew:</th>          <td> 6.163</td>  <th>  Prob(JB):          </th> <td>    0.00</td>\n",
       "</tr>\n",
       "<tr>\n",
       "  <th>Kurtosis:</th>      <td>46.774</td>  <th>  Cond. No.          </th> <td>8.19e+04</td>\n",
       "</tr>\n",
       "</table><br/><br/>Notes:<br/>[1] Standard Errors assume that the covariance matrix of the errors is correctly specified.<br/>[2] The condition number is large, 8.19e+04. This might indicate that there are<br/>strong multicollinearity or other numerical problems."
      ],
      "text/plain": [
       "<class 'statsmodels.iolib.summary.Summary'>\n",
       "\"\"\"\n",
       "                            OLS Regression Results                            \n",
       "==============================================================================\n",
       "Dep. Variable:                     PB   R-squared:                       0.470\n",
       "Model:                            OLS   Adj. R-squared:                  0.462\n",
       "Method:                 Least Squares   F-statistic:                     55.86\n",
       "Date:                Thu, 10 Mar 2022   Prob (F-statistic):           2.97e-10\n",
       "Time:                        20:05:29   Log-Likelihood:                -468.75\n",
       "No. Observations:                  65   AIC:                             941.5\n",
       "Df Residuals:                      63   BIC:                             945.8\n",
       "Df Model:                           1                                         \n",
       "Covariance Type:            nonrobust                                         \n",
       "==============================================================================\n",
       "                 coef    std err          t      P>|t|      [0.025      0.975]\n",
       "------------------------------------------------------------------------------\n",
       "Intercept      1.0329     53.677      0.019      0.985    -106.233     108.299\n",
       "GWB            0.0064      0.001      7.474      0.000       0.005       0.008\n",
       "==============================================================================\n",
       "Omnibus:                      122.940   Durbin-Watson:                   1.918\n",
       "Prob(Omnibus):                  0.000   Jarque-Bera (JB):             5601.188\n",
       "Skew:                           6.163   Prob(JB):                         0.00\n",
       "Kurtosis:                      46.774   Cond. No.                     8.19e+04\n",
       "==============================================================================\n",
       "\n",
       "Notes:\n",
       "[1] Standard Errors assume that the covariance matrix of the errors is correctly specified.\n",
       "[2] The condition number is large, 8.19e+04. This might indicate that there are\n",
       "strong multicollinearity or other numerical problems.\n",
       "\"\"\""
      ]
     },
     "execution_count": 35,
     "metadata": {},
     "output_type": "execute_result"
    }
   ],
   "source": [
    "model = ols(formula = 'PB ~ GWB', data=df_votes.rename(columns={'Pat Buchanan': 'PB',\n",
    "                                                                'George W. Bush': 'GWB'}))\n",
    "res = model.fit()\n",
    "res.summary()"
   ]
  },
  {
   "cell_type": "code",
   "execution_count": 36,
   "id": "fff4edd4-bf44-420c-8aa8-b75f236dce66",
   "metadata": {},
   "outputs": [
    {
     "data": {
      "text/html": [
       "<table class=\"simpletable\">\n",
       "<caption>OLS Regression Results</caption>\n",
       "<tr>\n",
       "  <th>Dep. Variable:</th>           <td>PB</td>        <th>  R-squared:         </th> <td>   0.864</td>\n",
       "</tr>\n",
       "<tr>\n",
       "  <th>Model:</th>                   <td>OLS</td>       <th>  Adj. R-squared:    </th> <td>   0.862</td>\n",
       "</tr>\n",
       "<tr>\n",
       "  <th>Method:</th>             <td>Least Squares</td>  <th>  F-statistic:       </th> <td>   393.4</td>\n",
       "</tr>\n",
       "<tr>\n",
       "  <th>Date:</th>             <td>Thu, 10 Mar 2022</td> <th>  Prob (F-statistic):</th> <td>1.54e-28</td>\n",
       "</tr>\n",
       "<tr>\n",
       "  <th>Time:</th>                 <td>20:05:29</td>     <th>  Log-Likelihood:    </th> <td> -372.29</td>\n",
       "</tr>\n",
       "<tr>\n",
       "  <th>No. Observations:</th>      <td>    64</td>      <th>  AIC:               </th> <td>   748.6</td>\n",
       "</tr>\n",
       "<tr>\n",
       "  <th>Df Residuals:</th>          <td>    62</td>      <th>  BIC:               </th> <td>   752.9</td>\n",
       "</tr>\n",
       "<tr>\n",
       "  <th>Df Model:</th>              <td>     1</td>      <th>                     </th>     <td> </td>   \n",
       "</tr>\n",
       "<tr>\n",
       "  <th>Covariance Type:</th>      <td>nonrobust</td>    <th>                     </th>     <td> </td>   \n",
       "</tr>\n",
       "</table>\n",
       "<table class=\"simpletable\">\n",
       "<tr>\n",
       "      <td></td>         <th>coef</th>     <th>std err</th>      <th>t</th>      <th>P>|t|</th>  <th>[0.025</th>    <th>0.975]</th>  \n",
       "</tr>\n",
       "<tr>\n",
       "  <th>Intercept</th> <td>   39.5118</td> <td>   13.370</td> <td>    2.955</td> <td> 0.004</td> <td>   12.785</td> <td>   66.238</td>\n",
       "</tr>\n",
       "<tr>\n",
       "  <th>GWB</th>       <td>    0.0044</td> <td>    0.000</td> <td>   19.835</td> <td> 0.000</td> <td>    0.004</td> <td>    0.005</td>\n",
       "</tr>\n",
       "</table>\n",
       "<table class=\"simpletable\">\n",
       "<tr>\n",
       "  <th>Omnibus:</th>       <td>11.816</td> <th>  Durbin-Watson:     </th> <td>   1.920</td>\n",
       "</tr>\n",
       "<tr>\n",
       "  <th>Prob(Omnibus):</th> <td> 0.003</td> <th>  Jarque-Bera (JB):  </th> <td>  21.408</td>\n",
       "</tr>\n",
       "<tr>\n",
       "  <th>Skew:</th>          <td> 0.544</td> <th>  Prob(JB):          </th> <td>2.25e-05</td>\n",
       "</tr>\n",
       "<tr>\n",
       "  <th>Kurtosis:</th>      <td> 5.616</td> <th>  Cond. No.          </th> <td>7.85e+04</td>\n",
       "</tr>\n",
       "</table><br/><br/>Notes:<br/>[1] Standard Errors assume that the covariance matrix of the errors is correctly specified.<br/>[2] The condition number is large, 7.85e+04. This might indicate that there are<br/>strong multicollinearity or other numerical problems."
      ],
      "text/plain": [
       "<class 'statsmodels.iolib.summary.Summary'>\n",
       "\"\"\"\n",
       "                            OLS Regression Results                            \n",
       "==============================================================================\n",
       "Dep. Variable:                     PB   R-squared:                       0.864\n",
       "Model:                            OLS   Adj. R-squared:                  0.862\n",
       "Method:                 Least Squares   F-statistic:                     393.4\n",
       "Date:                Thu, 10 Mar 2022   Prob (F-statistic):           1.54e-28\n",
       "Time:                        20:05:29   Log-Likelihood:                -372.29\n",
       "No. Observations:                  64   AIC:                             748.6\n",
       "Df Residuals:                      62   BIC:                             752.9\n",
       "Df Model:                           1                                         \n",
       "Covariance Type:            nonrobust                                         \n",
       "==============================================================================\n",
       "                 coef    std err          t      P>|t|      [0.025      0.975]\n",
       "------------------------------------------------------------------------------\n",
       "Intercept     39.5118     13.370      2.955      0.004      12.785      66.238\n",
       "GWB            0.0044      0.000     19.835      0.000       0.004       0.005\n",
       "==============================================================================\n",
       "Omnibus:                       11.816   Durbin-Watson:                   1.920\n",
       "Prob(Omnibus):                  0.003   Jarque-Bera (JB):               21.408\n",
       "Skew:                           0.544   Prob(JB):                     2.25e-05\n",
       "Kurtosis:                       5.616   Cond. No.                     7.85e+04\n",
       "==============================================================================\n",
       "\n",
       "Notes:\n",
       "[1] Standard Errors assume that the covariance matrix of the errors is correctly specified.\n",
       "[2] The condition number is large, 7.85e+04. This might indicate that there are\n",
       "strong multicollinearity or other numerical problems.\n",
       "\"\"\""
      ]
     },
     "execution_count": 36,
     "metadata": {},
     "output_type": "execute_result"
    }
   ],
   "source": [
    "model = ols(formula = 'PB ~ GWB', data=df_votes_nopb.rename(columns={'Pat Buchanan': 'PB',\n",
    "                                                                'George W. Bush': 'GWB'}))\n",
    "res = model.fit()\n",
    "res.summary()"
   ]
  },
  {
   "cell_type": "markdown",
   "id": "2cb7aa28-57a9-4150-aaa1-45a931cc811f",
   "metadata": {},
   "source": [
    "### Interpretation\n",
    "\n",
    "Look how small that coefficient is! Is there a relationship between Bush and Buchanan votes? Why or why not?"
   ]
  },
  {
   "cell_type": "markdown",
   "id": "bee109f9-4787-4e98-9690-25d765e02006",
   "metadata": {},
   "source": [
    "## Prediction\n",
    "How well does my model perform on unseen data?"
   ]
  },
  {
   "cell_type": "code",
   "execution_count": 37,
   "id": "8469640f-95b2-4913-a28d-ab2483fe9a3f",
   "metadata": {},
   "outputs": [
    {
     "data": {
      "text/html": [
       "<div>\n",
       "<style scoped>\n",
       "    .dataframe tbody tr th:only-of-type {\n",
       "        vertical-align: middle;\n",
       "    }\n",
       "\n",
       "    .dataframe tbody tr th {\n",
       "        vertical-align: top;\n",
       "    }\n",
       "\n",
       "    .dataframe thead th {\n",
       "        text-align: right;\n",
       "    }\n",
       "</style>\n",
       "<table border=\"1\" class=\"dataframe\">\n",
       "  <thead>\n",
       "    <tr style=\"text-align: right;\">\n",
       "      <th></th>\n",
       "      <th>bill_length_mm</th>\n",
       "      <th>bill_depth_mm</th>\n",
       "      <th>flipper_length_mm</th>\n",
       "      <th>body_mass_g</th>\n",
       "      <th>is_heavier</th>\n",
       "      <th>is_male</th>\n",
       "    </tr>\n",
       "  </thead>\n",
       "  <tbody>\n",
       "    <tr>\n",
       "      <th>bill_length_mm</th>\n",
       "      <td>1.000000</td>\n",
       "      <td>-0.228626</td>\n",
       "      <td>0.653096</td>\n",
       "      <td>0.589451</td>\n",
       "      <td>0.443729</td>\n",
       "      <td>0.344078</td>\n",
       "    </tr>\n",
       "    <tr>\n",
       "      <th>bill_depth_mm</th>\n",
       "      <td>-0.228626</td>\n",
       "      <td>1.000000</td>\n",
       "      <td>-0.577792</td>\n",
       "      <td>-0.472016</td>\n",
       "      <td>-0.541841</td>\n",
       "      <td>0.372673</td>\n",
       "    </tr>\n",
       "    <tr>\n",
       "      <th>flipper_length_mm</th>\n",
       "      <td>0.653096</td>\n",
       "      <td>-0.577792</td>\n",
       "      <td>1.000000</td>\n",
       "      <td>0.872979</td>\n",
       "      <td>0.768537</td>\n",
       "      <td>0.255169</td>\n",
       "    </tr>\n",
       "    <tr>\n",
       "      <th>body_mass_g</th>\n",
       "      <td>0.589451</td>\n",
       "      <td>-0.472016</td>\n",
       "      <td>0.872979</td>\n",
       "      <td>1.000000</td>\n",
       "      <td>0.852768</td>\n",
       "      <td>0.424987</td>\n",
       "    </tr>\n",
       "    <tr>\n",
       "      <th>is_heavier</th>\n",
       "      <td>0.443729</td>\n",
       "      <td>-0.541841</td>\n",
       "      <td>0.768537</td>\n",
       "      <td>0.852768</td>\n",
       "      <td>1.000000</td>\n",
       "      <td>0.228309</td>\n",
       "    </tr>\n",
       "    <tr>\n",
       "      <th>is_male</th>\n",
       "      <td>0.344078</td>\n",
       "      <td>0.372673</td>\n",
       "      <td>0.255169</td>\n",
       "      <td>0.424987</td>\n",
       "      <td>0.228309</td>\n",
       "      <td>1.000000</td>\n",
       "    </tr>\n",
       "  </tbody>\n",
       "</table>\n",
       "</div>"
      ],
      "text/plain": [
       "                   bill_length_mm  bill_depth_mm  flipper_length_mm  \\\n",
       "bill_length_mm           1.000000      -0.228626           0.653096   \n",
       "bill_depth_mm           -0.228626       1.000000          -0.577792   \n",
       "flipper_length_mm        0.653096      -0.577792           1.000000   \n",
       "body_mass_g              0.589451      -0.472016           0.872979   \n",
       "is_heavier               0.443729      -0.541841           0.768537   \n",
       "is_male                  0.344078       0.372673           0.255169   \n",
       "\n",
       "                   body_mass_g  is_heavier   is_male  \n",
       "bill_length_mm        0.589451    0.443729  0.344078  \n",
       "bill_depth_mm        -0.472016   -0.541841  0.372673  \n",
       "flipper_length_mm     0.872979    0.768537  0.255169  \n",
       "body_mass_g           1.000000    0.852768  0.424987  \n",
       "is_heavier            0.852768    1.000000  0.228309  \n",
       "is_male               0.424987    0.228309  1.000000  "
      ]
     },
     "execution_count": 37,
     "metadata": {},
     "output_type": "execute_result"
    }
   ],
   "source": [
    "df_penguins.corr()"
   ]
  },
  {
   "cell_type": "code",
   "execution_count": 38,
   "id": "441b01ae-9926-416f-bef7-ab2ab67017ed",
   "metadata": {},
   "outputs": [
    {
     "name": "stdout",
     "output_type": "stream",
     "text": [
      "This model has an R^2 of 0.7620921573403914\n"
     ]
    }
   ],
   "source": [
    "model = ols(formula = 'body_mass_g ~ flipper_length_mm', data=df_penguins)\n",
    "res = model.fit()\n",
    "print(f'This model has an R^2 of {res.rsquared}')"
   ]
  },
  {
   "cell_type": "markdown",
   "id": "27983cdd-4551-4c21-9889-75c7a83bb590",
   "metadata": {},
   "source": [
    "What about penguin data points not used to build the model?"
   ]
  },
  {
   "cell_type": "code",
   "execution_count": 39,
   "id": "6de380ec-b80c-42d3-a566-6dda9a23969e",
   "metadata": {},
   "outputs": [],
   "source": [
    "from sklearn.model_selection import train_test_split\n",
    "\n",
    "# take random 10% of the penguins for testing\n",
    "train, test = train_test_split(df_penguins, test_size=0.1)"
   ]
  },
  {
   "cell_type": "markdown",
   "id": "bf13cbc0-a895-4aa6-ba18-7c595fe9622d",
   "metadata": {},
   "source": [
    "- This is a **Train**-**Test** split. The training set is used to create the model while the test set is used to evaluate the model.\n",
    "- The test set is \"unseen\" data for the model. It did not \"know\" what the RSS values were for these penguins during model creation."
   ]
  },
  {
   "cell_type": "code",
   "execution_count": 40,
   "id": "02ce8d1f-41e7-42eb-8332-1f307d05ce61",
   "metadata": {},
   "outputs": [
    {
     "name": "stdout",
     "output_type": "stream",
     "text": [
      "This model has an R^2 on the test set of 0.59629952923365\n"
     ]
    }
   ],
   "source": [
    "# build model on training set\n",
    "model = ols(formula = 'body_mass_g ~ flipper_length_mm', data=train)\n",
    "res = model.fit()\n",
    "\n",
    "# predict using the model\n",
    "y_pred = res.predict(test)\n",
    "\n",
    "# score the model\n",
    "y = test['body_mass_g']\n",
    "y_mean = train['body_mass_g'].mean()  # use the mean of the training set\n",
    "\n",
    "TSS = sum((y_pred - y_mean)**2)\n",
    "RSS = sum((y_pred - y)**2)\n",
    "print(f'This model has an R^2 on the test set of {(TSS - RSS) / TSS}')"
   ]
  },
  {
   "cell_type": "markdown",
   "id": "5088a897-0df3-4238-9f35-af0cabe0b549",
   "metadata": {},
   "source": [
    "- Why did it go down?\n",
    "- Is this bad?"
   ]
  },
  {
   "cell_type": "markdown",
   "id": "a35e67ab-e51a-4dbb-9a79-a30d64e48bb9",
   "metadata": {},
   "source": [
    "## Under/Overfitting\n",
    "\n",
    "There are two problems one often faces with a train-test split:\n",
    "- Overfitting: The model performs well on training data, but the model performs poorly on the test data\n",
    "- Underfitting: The model performs poorly on the training data\n",
    "\n",
    "This is related to the *Bias-Variance Tradeoff* which we will discuss in Lecture 6."
   ]
  },
  {
   "cell_type": "code",
   "execution_count": 41,
   "id": "01e8888e-c24c-4057-abc3-780d5da334a4",
   "metadata": {},
   "outputs": [
    {
     "data": {
      "image/png": "[encoded data removed]",
      "text/plain": [
       "<Figure size 432x288 with 1 Axes>"
      ]
     },
     "metadata": {
      "needs_background": "light"
     },
     "output_type": "display_data"
    }
   ],
   "source": [
    "# let's make some fake nonlinear data to illustrate this\n",
    "num_pts = 40\n",
    "x = np.linspace(-2, 2, num_pts)\n",
    "\n",
    "# noise\n",
    "epsilon = np.random.normal(0, 3, num_pts)\n",
    "\n",
    "# degree 3 polynomial\n",
    "y = 3*(x-1)*(x+2)*(x-1.5) + epsilon\n",
    "\n",
    "plt.scatter(x=x, y=y)\n",
    "plt.show()"
   ]
  },
  {
   "cell_type": "code",
   "execution_count": 42,
   "id": "9542ad1f-fdc3-4bce-be73-f727eb358803",
   "metadata": {},
   "outputs": [
    {
     "data": {
      "text/html": [
       "<table class=\"simpletable\">\n",
       "<caption>OLS Regression Results</caption>\n",
       "<tr>\n",
       "  <th>Dep. Variable:</th>            <td>y</td>        <th>  R-squared:         </th> <td>   0.286</td>\n",
       "</tr>\n",
       "<tr>\n",
       "  <th>Model:</th>                   <td>OLS</td>       <th>  Adj. R-squared:    </th> <td>   0.267</td>\n",
       "</tr>\n",
       "<tr>\n",
       "  <th>Method:</th>             <td>Least Squares</td>  <th>  F-statistic:       </th> <td>   15.22</td>\n",
       "</tr>\n",
       "<tr>\n",
       "  <th>Date:</th>             <td>Thu, 10 Mar 2022</td> <th>  Prob (F-statistic):</th> <td>0.000378</td>\n",
       "</tr>\n",
       "<tr>\n",
       "  <th>Time:</th>                 <td>20:05:30</td>     <th>  Log-Likelihood:    </th> <td> -121.09</td>\n",
       "</tr>\n",
       "<tr>\n",
       "  <th>No. Observations:</th>      <td>    40</td>      <th>  AIC:               </th> <td>   246.2</td>\n",
       "</tr>\n",
       "<tr>\n",
       "  <th>Df Residuals:</th>          <td>    38</td>      <th>  BIC:               </th> <td>   249.6</td>\n",
       "</tr>\n",
       "<tr>\n",
       "  <th>Df Model:</th>              <td>     1</td>      <th>                     </th>     <td> </td>   \n",
       "</tr>\n",
       "<tr>\n",
       "  <th>Covariance Type:</th>      <td>nonrobust</td>    <th>                     </th>     <td> </td>   \n",
       "</tr>\n",
       "</table>\n",
       "<table class=\"simpletable\">\n",
       "<tr>\n",
       "    <td></td>       <th>coef</th>     <th>std err</th>      <th>t</th>      <th>P>|t|</th>  <th>[0.025</th>    <th>0.975]</th>  \n",
       "</tr>\n",
       "<tr>\n",
       "  <th>const</th> <td>    7.0715</td> <td>    0.810</td> <td>    8.729</td> <td> 0.000</td> <td>    5.431</td> <td>    8.712</td>\n",
       "</tr>\n",
       "<tr>\n",
       "  <th>x1</th>    <td>   -2.6695</td> <td>    0.684</td> <td>   -3.901</td> <td> 0.000</td> <td>   -4.055</td> <td>   -1.284</td>\n",
       "</tr>\n",
       "</table>\n",
       "<table class=\"simpletable\">\n",
       "<tr>\n",
       "  <th>Omnibus:</th>       <td> 0.700</td> <th>  Durbin-Watson:     </th> <td>   0.718</td>\n",
       "</tr>\n",
       "<tr>\n",
       "  <th>Prob(Omnibus):</th> <td> 0.705</td> <th>  Jarque-Bera (JB):  </th> <td>   0.796</td>\n",
       "</tr>\n",
       "<tr>\n",
       "  <th>Skew:</th>          <td>-0.257</td> <th>  Prob(JB):          </th> <td>   0.672</td>\n",
       "</tr>\n",
       "<tr>\n",
       "  <th>Kurtosis:</th>      <td> 2.539</td> <th>  Cond. No.          </th> <td>    1.18</td>\n",
       "</tr>\n",
       "</table><br/><br/>Notes:<br/>[1] Standard Errors assume that the covariance matrix of the errors is correctly specified."
      ],
      "text/plain": [
       "<class 'statsmodels.iolib.summary.Summary'>\n",
       "\"\"\"\n",
       "                            OLS Regression Results                            \n",
       "==============================================================================\n",
       "Dep. Variable:                      y   R-squared:                       0.286\n",
       "Model:                            OLS   Adj. R-squared:                  0.267\n",
       "Method:                 Least Squares   F-statistic:                     15.22\n",
       "Date:                Thu, 10 Mar 2022   Prob (F-statistic):           0.000378\n",
       "Time:                        20:05:30   Log-Likelihood:                -121.09\n",
       "No. Observations:                  40   AIC:                             246.2\n",
       "Df Residuals:                      38   BIC:                             249.6\n",
       "Df Model:                           1                                         \n",
       "Covariance Type:            nonrobust                                         \n",
       "==============================================================================\n",
       "                 coef    std err          t      P>|t|      [0.025      0.975]\n",
       "------------------------------------------------------------------------------\n",
       "const          7.0715      0.810      8.729      0.000       5.431       8.712\n",
       "x1            -2.6695      0.684     -3.901      0.000      -4.055      -1.284\n",
       "==============================================================================\n",
       "Omnibus:                        0.700   Durbin-Watson:                   0.718\n",
       "Prob(Omnibus):                  0.705   Jarque-Bera (JB):                0.796\n",
       "Skew:                          -0.257   Prob(JB):                        0.672\n",
       "Kurtosis:                       2.539   Cond. No.                         1.18\n",
       "==============================================================================\n",
       "\n",
       "Notes:\n",
       "[1] Standard Errors assume that the covariance matrix of the errors is correctly specified.\n",
       "\"\"\""
      ]
     },
     "execution_count": 42,
     "metadata": {},
     "output_type": "execute_result"
    }
   ],
   "source": [
    "model = sm.OLS(y, sm.add_constant(x), hasconst=True)\n",
    "res = model.fit()\n",
    "res.summary()"
   ]
  },
  {
   "cell_type": "markdown",
   "id": "811fd47f-3876-4588-8085-f8fd94b42c8d",
   "metadata": {},
   "source": [
    "We can see from the $R^2$ and visually that the line is underfitting the data."
   ]
  },
  {
   "cell_type": "code",
   "execution_count": 43,
   "id": "cf5906a3-209c-4323-92d7-08294a2ea04a",
   "metadata": {},
   "outputs": [
    {
     "data": {
      "image/png": "[encoded data removed]",
      "text/plain": [
       "<Figure size 432x288 with 1 Axes>"
      ]
     },
     "metadata": {
      "needs_background": "light"
     },
     "output_type": "display_data"
    }
   ],
   "source": [
    "b, m = res.params\n",
    "\n",
    "plt.scatter(x=x, y=y)\n",
    "\n",
    "plt.axline((0, b), slope=m, color='green')\n",
    "\n",
    "plt.xlim(min(x), max(x))\n",
    "plt.ylim(min(y), max(y))\n",
    "plt.show()"
   ]
  },
  {
   "cell_type": "markdown",
   "id": "cf7aca1b-d542-4bab-be91-97f356e0562d",
   "metadata": {},
   "source": [
    "Now let's do some feature engineering. Let's create polynomial features and do a linear regression (polynomial regression)."
   ]
  },
  {
   "cell_type": "code",
   "execution_count": 44,
   "id": "d86a3535-833e-4902-95e5-60182d3c148a",
   "metadata": {},
   "outputs": [
    {
     "data": {
      "text/html": [
       "<div>\n",
       "<style scoped>\n",
       "    .dataframe tbody tr th:only-of-type {\n",
       "        vertical-align: middle;\n",
       "    }\n",
       "\n",
       "    .dataframe tbody tr th {\n",
       "        vertical-align: top;\n",
       "    }\n",
       "\n",
       "    .dataframe thead th {\n",
       "        text-align: right;\n",
       "    }\n",
       "</style>\n",
       "<table border=\"1\" class=\"dataframe\">\n",
       "  <thead>\n",
       "    <tr style=\"text-align: right;\">\n",
       "      <th></th>\n",
       "      <th>x</th>\n",
       "      <th>y</th>\n",
       "      <th>x_2</th>\n",
       "      <th>x_3</th>\n",
       "      <th>x_4</th>\n",
       "      <th>x_5</th>\n",
       "      <th>x_6</th>\n",
       "      <th>x_7</th>\n",
       "      <th>x_8</th>\n",
       "      <th>x_9</th>\n",
       "      <th>...</th>\n",
       "      <th>x_21</th>\n",
       "      <th>x_22</th>\n",
       "      <th>x_23</th>\n",
       "      <th>x_24</th>\n",
       "      <th>x_25</th>\n",
       "      <th>x_26</th>\n",
       "      <th>x_27</th>\n",
       "      <th>x_28</th>\n",
       "      <th>x_29</th>\n",
       "      <th>x_30</th>\n",
       "    </tr>\n",
       "  </thead>\n",
       "  <tbody>\n",
       "    <tr>\n",
       "      <th>0</th>\n",
       "      <td>-2.000000</td>\n",
       "      <td>0.874436</td>\n",
       "      <td>4.000000</td>\n",
       "      <td>-8.000000</td>\n",
       "      <td>16.000000</td>\n",
       "      <td>-32.000000</td>\n",
       "      <td>64.000000</td>\n",
       "      <td>-128.000000</td>\n",
       "      <td>256.000000</td>\n",
       "      <td>-512.000000</td>\n",
       "      <td>...</td>\n",
       "      <td>-2.097152e+06</td>\n",
       "      <td>4.194304e+06</td>\n",
       "      <td>-8.388608e+06</td>\n",
       "      <td>1.677722e+07</td>\n",
       "      <td>-3.355443e+07</td>\n",
       "      <td>6.710886e+07</td>\n",
       "      <td>-1.342177e+08</td>\n",
       "      <td>2.684355e+08</td>\n",
       "      <td>-5.368709e+08</td>\n",
       "      <td>1.073742e+09</td>\n",
       "    </tr>\n",
       "    <tr>\n",
       "      <th>1</th>\n",
       "      <td>-1.897436</td>\n",
       "      <td>1.986892</td>\n",
       "      <td>3.600263</td>\n",
       "      <td>-6.831268</td>\n",
       "      <td>12.961894</td>\n",
       "      <td>-24.594362</td>\n",
       "      <td>46.666226</td>\n",
       "      <td>-88.546172</td>\n",
       "      <td>168.010685</td>\n",
       "      <td>-318.789504</td>\n",
       "      <td>...</td>\n",
       "      <td>-6.942396e+05</td>\n",
       "      <td>1.317275e+06</td>\n",
       "      <td>-2.499445e+06</td>\n",
       "      <td>4.742537e+06</td>\n",
       "      <td>-8.998659e+06</td>\n",
       "      <td>1.707438e+07</td>\n",
       "      <td>-3.239754e+07</td>\n",
       "      <td>6.147226e+07</td>\n",
       "      <td>-1.166397e+08</td>\n",
       "      <td>2.213163e+08</td>\n",
       "    </tr>\n",
       "    <tr>\n",
       "      <th>2</th>\n",
       "      <td>-1.794872</td>\n",
       "      <td>10.037563</td>\n",
       "      <td>3.221565</td>\n",
       "      <td>-5.782296</td>\n",
       "      <td>10.378480</td>\n",
       "      <td>-18.628040</td>\n",
       "      <td>33.434944</td>\n",
       "      <td>-60.011438</td>\n",
       "      <td>107.712837</td>\n",
       "      <td>-193.330733</td>\n",
       "      <td>...</td>\n",
       "      <td>-2.161236e+05</td>\n",
       "      <td>3.879141e+05</td>\n",
       "      <td>-6.962560e+05</td>\n",
       "      <td>1.249690e+06</td>\n",
       "      <td>-2.243034e+06</td>\n",
       "      <td>4.025958e+06</td>\n",
       "      <td>-7.226079e+06</td>\n",
       "      <td>1.296988e+07</td>\n",
       "      <td>-2.327928e+07</td>\n",
       "      <td>4.178332e+07</td>\n",
       "    </tr>\n",
       "    <tr>\n",
       "      <th>3</th>\n",
       "      <td>-1.692308</td>\n",
       "      <td>11.669147</td>\n",
       "      <td>2.863905</td>\n",
       "      <td>-4.846609</td>\n",
       "      <td>8.201954</td>\n",
       "      <td>-13.880229</td>\n",
       "      <td>23.489619</td>\n",
       "      <td>-39.751663</td>\n",
       "      <td>67.272045</td>\n",
       "      <td>-113.844999</td>\n",
       "      <td>...</td>\n",
       "      <td>-6.281537e+04</td>\n",
       "      <td>1.063029e+05</td>\n",
       "      <td>-1.798973e+05</td>\n",
       "      <td>3.044415e+05</td>\n",
       "      <td>-5.152087e+05</td>\n",
       "      <td>8.718917e+05</td>\n",
       "      <td>-1.475509e+06</td>\n",
       "      <td>2.497015e+06</td>\n",
       "      <td>-4.225718e+06</td>\n",
       "      <td>7.151215e+06</td>\n",
       "    </tr>\n",
       "    <tr>\n",
       "      <th>4</th>\n",
       "      <td>-1.589744</td>\n",
       "      <td>7.765619</td>\n",
       "      <td>2.527285</td>\n",
       "      <td>-4.017735</td>\n",
       "      <td>6.387168</td>\n",
       "      <td>-10.153959</td>\n",
       "      <td>16.142191</td>\n",
       "      <td>-25.661945</td>\n",
       "      <td>40.795913</td>\n",
       "      <td>-64.855042</td>\n",
       "      <td>...</td>\n",
       "      <td>-1.689930e+04</td>\n",
       "      <td>2.686555e+04</td>\n",
       "      <td>-4.270934e+04</td>\n",
       "      <td>6.789691e+04</td>\n",
       "      <td>-1.079387e+05</td>\n",
       "      <td>1.715948e+05</td>\n",
       "      <td>-2.727917e+05</td>\n",
       "      <td>4.336689e+05</td>\n",
       "      <td>-6.894224e+05</td>\n",
       "      <td>1.096005e+06</td>\n",
       "    </tr>\n",
       "  </tbody>\n",
       "</table>\n",
       "<p>5 rows × 31 columns</p>\n",
       "</div>"
      ],
      "text/plain": [
       "          x          y       x_2       x_3        x_4        x_5        x_6  \\\n",
       "0 -2.000000   0.874436  4.000000 -8.000000  16.000000 -32.000000  64.000000   \n",
       "1 -1.897436   1.986892  3.600263 -6.831268  12.961894 -24.594362  46.666226   \n",
       "2 -1.794872  10.037563  3.221565 -5.782296  10.378480 -18.628040  33.434944   \n",
       "3 -1.692308  11.669147  2.863905 -4.846609   8.201954 -13.880229  23.489619   \n",
       "4 -1.589744   7.765619  2.527285 -4.017735   6.387168 -10.153959  16.142191   \n",
       "\n",
       "          x_7         x_8         x_9  ...          x_21          x_22  \\\n",
       "0 -128.000000  256.000000 -512.000000  ... -2.097152e+06  4.194304e+06   \n",
       "1  -88.546172  168.010685 -318.789504  ... -6.942396e+05  1.317275e+06   \n",
       "2  -60.011438  107.712837 -193.330733  ... -2.161236e+05  3.879141e+05   \n",
       "3  -39.751663   67.272045 -113.844999  ... -6.281537e+04  1.063029e+05   \n",
       "4  -25.661945   40.795913  -64.855042  ... -1.689930e+04  2.686555e+04   \n",
       "\n",
       "           x_23          x_24          x_25          x_26          x_27  \\\n",
       "0 -8.388608e+06  1.677722e+07 -3.355443e+07  6.710886e+07 -1.342177e+08   \n",
       "1 -2.499445e+06  4.742537e+06 -8.998659e+06  1.707438e+07 -3.239754e+07   \n",
       "2 -6.962560e+05  1.249690e+06 -2.243034e+06  4.025958e+06 -7.226079e+06   \n",
       "3 -1.798973e+05  3.044415e+05 -5.152087e+05  8.718917e+05 -1.475509e+06   \n",
       "4 -4.270934e+04  6.789691e+04 -1.079387e+05  1.715948e+05 -2.727917e+05   \n",
       "\n",
       "           x_28          x_29          x_30  \n",
       "0  2.684355e+08 -5.368709e+08  1.073742e+09  \n",
       "1  6.147226e+07 -1.166397e+08  2.213163e+08  \n",
       "2  1.296988e+07 -2.327928e+07  4.178332e+07  \n",
       "3  2.497015e+06 -4.225718e+06  7.151215e+06  \n",
       "4  4.336689e+05 -6.894224e+05  1.096005e+06  \n",
       "\n",
       "[5 rows x 31 columns]"
      ]
     },
     "execution_count": 44,
     "metadata": {},
     "output_type": "execute_result"
    }
   ],
   "source": [
    "df = pd.DataFrame({'x':x, 'y':y})\n",
    "\n",
    "n = 30\n",
    "\n",
    "for i in range(n-1):\n",
    "    df[f'x_{i+2}'] = x**(i+2)\n",
    "df.head()"
   ]
  },
  {
   "cell_type": "code",
   "execution_count": 45,
   "id": "a9db3301-cc3f-41ff-a903-c268c92a2300",
   "metadata": {},
   "outputs": [
    {
     "name": "stdout",
     "output_type": "stream",
     "text": [
      "x + x_2 + x_3 + x_4 + x_5 + x_6 + x_7 + x_8 + x_9 + x_10 + x_11 + x_12 + x_13 + x_14 + x_15 + x_16 + x_17 + x_18 + x_19 + x_20 + x_21 + x_22 + x_23 + x_24 + x_25 + x_26 + x_27 + x_28 + x_29 + x_30\n"
     ]
    },
    {
     "data": {
      "text/html": [
       "<table class=\"simpletable\">\n",
       "<caption>OLS Regression Results</caption>\n",
       "<tr>\n",
       "  <th>Dep. Variable:</th>            <td>y</td>        <th>  R-squared:         </th> <td>   0.959</td>\n",
       "</tr>\n",
       "<tr>\n",
       "  <th>Model:</th>                   <td>OLS</td>       <th>  Adj. R-squared:    </th> <td>   0.854</td>\n",
       "</tr>\n",
       "<tr>\n",
       "  <th>Method:</th>             <td>Least Squares</td>  <th>  F-statistic:       </th> <td>   9.161</td>\n",
       "</tr>\n",
       "<tr>\n",
       "  <th>Date:</th>             <td>Thu, 10 Mar 2022</td> <th>  Prob (F-statistic):</th> <td>0.000233</td>\n",
       "</tr>\n",
       "<tr>\n",
       "  <th>Time:</th>                 <td>20:05:30</td>     <th>  Log-Likelihood:    </th> <td> -64.000</td>\n",
       "</tr>\n",
       "<tr>\n",
       "  <th>No. Observations:</th>      <td>    40</td>      <th>  AIC:               </th> <td>   186.0</td>\n",
       "</tr>\n",
       "<tr>\n",
       "  <th>Df Residuals:</th>          <td>    11</td>      <th>  BIC:               </th> <td>   235.0</td>\n",
       "</tr>\n",
       "<tr>\n",
       "  <th>Df Model:</th>              <td>    28</td>      <th>                     </th>     <td> </td>   \n",
       "</tr>\n",
       "<tr>\n",
       "  <th>Covariance Type:</th>      <td>nonrobust</td>    <th>                     </th>     <td> </td>   \n",
       "</tr>\n",
       "</table>\n",
       "<table class=\"simpletable\">\n",
       "<tr>\n",
       "      <td></td>         <th>coef</th>     <th>std err</th>      <th>t</th>      <th>P>|t|</th>  <th>[0.025</th>    <th>0.975]</th>  \n",
       "</tr>\n",
       "<tr>\n",
       "  <th>Intercept</th> <td>    7.5668</td> <td>    1.736</td> <td>    4.359</td> <td> 0.001</td> <td>    3.746</td> <td>   11.387</td>\n",
       "</tr>\n",
       "<tr>\n",
       "  <th>x</th>         <td>  -12.3225</td> <td>   16.567</td> <td>   -0.744</td> <td> 0.473</td> <td>  -48.787</td> <td>   24.142</td>\n",
       "</tr>\n",
       "<tr>\n",
       "  <th>x_2</th>       <td>  211.0150</td> <td>  120.617</td> <td>    1.749</td> <td> 0.108</td> <td>  -54.462</td> <td>  476.492</td>\n",
       "</tr>\n",
       "<tr>\n",
       "  <th>x_3</th>       <td>  468.8450</td> <td>  510.864</td> <td>    0.918</td> <td> 0.378</td> <td> -655.558</td> <td> 1593.248</td>\n",
       "</tr>\n",
       "<tr>\n",
       "  <th>x_4</th>       <td>-4953.9682</td> <td> 2294.877</td> <td>   -2.159</td> <td> 0.054</td> <td>   -1e+04</td> <td>   97.022</td>\n",
       "</tr>\n",
       "<tr>\n",
       "  <th>x_5</th>       <td>-7201.0823</td> <td> 5645.499</td> <td>   -1.276</td> <td> 0.228</td> <td>-1.96e+04</td> <td> 5224.577</td>\n",
       "</tr>\n",
       "<tr>\n",
       "  <th>x_6</th>       <td> 4.626e+04</td> <td> 1.91e+04</td> <td>    2.428</td> <td> 0.034</td> <td> 4329.048</td> <td> 8.82e+04</td>\n",
       "</tr>\n",
       "<tr>\n",
       "  <th>x_7</th>       <td> 4.713e+04</td> <td>  3.1e+04</td> <td>    1.521</td> <td> 0.156</td> <td>-2.11e+04</td> <td> 1.15e+05</td>\n",
       "</tr>\n",
       "<tr>\n",
       "  <th>x_8</th>       <td>-2.225e+05</td> <td> 8.62e+04</td> <td>   -2.581</td> <td> 0.026</td> <td>-4.12e+05</td> <td>-3.28e+04</td>\n",
       "</tr>\n",
       "<tr>\n",
       "  <th>x_9</th>       <td>-1.696e+05</td> <td>  9.9e+04</td> <td>   -1.714</td> <td> 0.115</td> <td>-3.87e+05</td> <td> 4.82e+04</td>\n",
       "</tr>\n",
       "<tr>\n",
       "  <th>x_10</th>      <td> 6.356e+05</td> <td> 2.39e+05</td> <td>    2.654</td> <td> 0.022</td> <td> 1.08e+05</td> <td> 1.16e+06</td>\n",
       "</tr>\n",
       "<tr>\n",
       "  <th>x_11</th>      <td> 3.765e+05</td> <td> 2.01e+05</td> <td>    1.870</td> <td> 0.088</td> <td>-6.67e+04</td> <td>  8.2e+05</td>\n",
       "</tr>\n",
       "<tr>\n",
       "  <th>x_12</th>      <td>-1.173e+06</td> <td> 4.38e+05</td> <td>   -2.678</td> <td> 0.021</td> <td>-2.14e+06</td> <td>-2.09e+05</td>\n",
       "</tr>\n",
       "<tr>\n",
       "  <th>x_13</th>      <td>  -5.5e+05</td> <td> 2.76e+05</td> <td>   -1.996</td> <td> 0.071</td> <td>-1.16e+06</td> <td> 5.64e+04</td>\n",
       "</tr>\n",
       "<tr>\n",
       "  <th>x_14</th>      <td> 1.475e+06</td> <td> 5.52e+05</td> <td>    2.674</td> <td> 0.022</td> <td> 2.61e+05</td> <td> 2.69e+06</td>\n",
       "</tr>\n",
       "<tr>\n",
       "  <th>x_15</th>      <td> 5.502e+05</td> <td> 2.62e+05</td> <td>    2.099</td> <td> 0.060</td> <td>-2.67e+04</td> <td> 1.13e+06</td>\n",
       "</tr>\n",
       "<tr>\n",
       "  <th>x_16</th>      <td>-1.303e+06</td> <td> 4.91e+05</td> <td>   -2.654</td> <td> 0.022</td> <td>-2.38e+06</td> <td>-2.22e+05</td>\n",
       "</tr>\n",
       "<tr>\n",
       "  <th>x_17</th>      <td>-3.852e+05</td> <td> 1.76e+05</td> <td>   -2.183</td> <td> 0.052</td> <td>-7.74e+05</td> <td> 3158.652</td>\n",
       "</tr>\n",
       "<tr>\n",
       "  <th>x_18</th>      <td>  8.22e+05</td> <td> 3.13e+05</td> <td>    2.627</td> <td> 0.024</td> <td> 1.33e+05</td> <td> 1.51e+06</td>\n",
       "</tr>\n",
       "<tr>\n",
       "  <th>x_19</th>      <td> 1.904e+05</td> <td> 8.45e+04</td> <td>    2.251</td> <td> 0.046</td> <td> 4270.506</td> <td> 3.76e+05</td>\n",
       "</tr>\n",
       "<tr>\n",
       "  <th>x_20</th>      <td>-3.721e+05</td> <td> 1.43e+05</td> <td>   -2.596</td> <td> 0.025</td> <td>-6.88e+05</td> <td>-5.66e+04</td>\n",
       "</tr>\n",
       "<tr>\n",
       "  <th>x_21</th>      <td>-6.601e+04</td> <td> 2.86e+04</td> <td>   -2.307</td> <td> 0.041</td> <td>-1.29e+05</td> <td>-3044.260</td>\n",
       "</tr>\n",
       "<tr>\n",
       "  <th>x_22</th>      <td> 1.198e+05</td> <td> 4.67e+04</td> <td>    2.565</td> <td> 0.026</td> <td>  1.7e+04</td> <td> 2.23e+05</td>\n",
       "</tr>\n",
       "<tr>\n",
       "  <th>x_23</th>      <td>  1.57e+04</td> <td> 6671.775</td> <td>    2.353</td> <td> 0.038</td> <td> 1015.485</td> <td> 3.04e+04</td>\n",
       "</tr>\n",
       "<tr>\n",
       "  <th>x_24</th>      <td>-2.675e+04</td> <td> 1.06e+04</td> <td>   -2.534</td> <td> 0.028</td> <td>   -5e+04</td> <td>-3518.596</td>\n",
       "</tr>\n",
       "<tr>\n",
       "  <th>x_25</th>      <td>-2437.2097</td> <td> 1019.417</td> <td>   -2.391</td> <td> 0.036</td> <td>-4680.932</td> <td> -193.487</td>\n",
       "</tr>\n",
       "<tr>\n",
       "  <th>x_26</th>      <td> 3932.5523</td> <td> 1569.624</td> <td>    2.505</td> <td> 0.029</td> <td>  477.833</td> <td> 7387.271</td>\n",
       "</tr>\n",
       "<tr>\n",
       "  <th>x_27</th>      <td>  222.2133</td> <td>   91.758</td> <td>    2.422</td> <td> 0.034</td> <td>   20.256</td> <td>  424.170</td>\n",
       "</tr>\n",
       "<tr>\n",
       "  <th>x_28</th>      <td> -342.1840</td> <td>  138.070</td> <td>   -2.478</td> <td> 0.031</td> <td> -646.073</td> <td>  -38.294</td>\n",
       "</tr>\n",
       "<tr>\n",
       "  <th>x_29</th>      <td>   -9.0179</td> <td>    3.685</td> <td>   -2.447</td> <td> 0.032</td> <td>  -17.128</td> <td>   -0.908</td>\n",
       "</tr>\n",
       "<tr>\n",
       "  <th>x_30</th>      <td>   13.3369</td> <td>    5.436</td> <td>    2.453</td> <td> 0.032</td> <td>    1.372</td> <td>   25.302</td>\n",
       "</tr>\n",
       "</table>\n",
       "<table class=\"simpletable\">\n",
       "<tr>\n",
       "  <th>Omnibus:</th>       <td> 0.781</td> <th>  Durbin-Watson:     </th> <td>   3.763</td>\n",
       "</tr>\n",
       "<tr>\n",
       "  <th>Prob(Omnibus):</th> <td> 0.677</td> <th>  Jarque-Bera (JB):  </th> <td>   0.161</td>\n",
       "</tr>\n",
       "<tr>\n",
       "  <th>Skew:</th>          <td>-0.017</td> <th>  Prob(JB):          </th> <td>   0.923</td>\n",
       "</tr>\n",
       "<tr>\n",
       "  <th>Kurtosis:</th>      <td> 3.309</td> <th>  Cond. No.          </th> <td>6.72e+14</td>\n",
       "</tr>\n",
       "</table><br/><br/>Notes:<br/>[1] Standard Errors assume that the covariance matrix of the errors is correctly specified.<br/>[2] The smallest eigenvalue is 5.69e-12. This might indicate that there are<br/>strong multicollinearity problems or that the design matrix is singular."
      ],
      "text/plain": [
       "<class 'statsmodels.iolib.summary.Summary'>\n",
       "\"\"\"\n",
       "                            OLS Regression Results                            \n",
       "==============================================================================\n",
       "Dep. Variable:                      y   R-squared:                       0.959\n",
       "Model:                            OLS   Adj. R-squared:                  0.854\n",
       "Method:                 Least Squares   F-statistic:                     9.161\n",
       "Date:                Thu, 10 Mar 2022   Prob (F-statistic):           0.000233\n",
       "Time:                        20:05:30   Log-Likelihood:                -64.000\n",
       "No. Observations:                  40   AIC:                             186.0\n",
       "Df Residuals:                      11   BIC:                             235.0\n",
       "Df Model:                          28                                         \n",
       "Covariance Type:            nonrobust                                         \n",
       "==============================================================================\n",
       "                 coef    std err          t      P>|t|      [0.025      0.975]\n",
       "------------------------------------------------------------------------------\n",
       "Intercept      7.5668      1.736      4.359      0.001       3.746      11.387\n",
       "x            -12.3225     16.567     -0.744      0.473     -48.787      24.142\n",
       "x_2          211.0150    120.617      1.749      0.108     -54.462     476.492\n",
       "x_3          468.8450    510.864      0.918      0.378    -655.558    1593.248\n",
       "x_4        -4953.9682   2294.877     -2.159      0.054      -1e+04      97.022\n",
       "x_5        -7201.0823   5645.499     -1.276      0.228   -1.96e+04    5224.577\n",
       "x_6         4.626e+04   1.91e+04      2.428      0.034    4329.048    8.82e+04\n",
       "x_7         4.713e+04    3.1e+04      1.521      0.156   -2.11e+04    1.15e+05\n",
       "x_8        -2.225e+05   8.62e+04     -2.581      0.026   -4.12e+05   -3.28e+04\n",
       "x_9        -1.696e+05    9.9e+04     -1.714      0.115   -3.87e+05    4.82e+04\n",
       "x_10        6.356e+05   2.39e+05      2.654      0.022    1.08e+05    1.16e+06\n",
       "x_11        3.765e+05   2.01e+05      1.870      0.088   -6.67e+04     8.2e+05\n",
       "x_12       -1.173e+06   4.38e+05     -2.678      0.021   -2.14e+06   -2.09e+05\n",
       "x_13         -5.5e+05   2.76e+05     -1.996      0.071   -1.16e+06    5.64e+04\n",
       "x_14        1.475e+06   5.52e+05      2.674      0.022    2.61e+05    2.69e+06\n",
       "x_15        5.502e+05   2.62e+05      2.099      0.060   -2.67e+04    1.13e+06\n",
       "x_16       -1.303e+06   4.91e+05     -2.654      0.022   -2.38e+06   -2.22e+05\n",
       "x_17       -3.852e+05   1.76e+05     -2.183      0.052   -7.74e+05    3158.652\n",
       "x_18         8.22e+05   3.13e+05      2.627      0.024    1.33e+05    1.51e+06\n",
       "x_19        1.904e+05   8.45e+04      2.251      0.046    4270.506    3.76e+05\n",
       "x_20       -3.721e+05   1.43e+05     -2.596      0.025   -6.88e+05   -5.66e+04\n",
       "x_21       -6.601e+04   2.86e+04     -2.307      0.041   -1.29e+05   -3044.260\n",
       "x_22        1.198e+05   4.67e+04      2.565      0.026     1.7e+04    2.23e+05\n",
       "x_23         1.57e+04   6671.775      2.353      0.038    1015.485    3.04e+04\n",
       "x_24       -2.675e+04   1.06e+04     -2.534      0.028      -5e+04   -3518.596\n",
       "x_25       -2437.2097   1019.417     -2.391      0.036   -4680.932    -193.487\n",
       "x_26        3932.5523   1569.624      2.505      0.029     477.833    7387.271\n",
       "x_27         222.2133     91.758      2.422      0.034      20.256     424.170\n",
       "x_28        -342.1840    138.070     -2.478      0.031    -646.073     -38.294\n",
       "x_29          -9.0179      3.685     -2.447      0.032     -17.128      -0.908\n",
       "x_30          13.3369      5.436      2.453      0.032       1.372      25.302\n",
       "==============================================================================\n",
       "Omnibus:                        0.781   Durbin-Watson:                   3.763\n",
       "Prob(Omnibus):                  0.677   Jarque-Bera (JB):                0.161\n",
       "Skew:                          -0.017   Prob(JB):                        0.923\n",
       "Kurtosis:                       3.309   Cond. No.                     6.72e+14\n",
       "==============================================================================\n",
       "\n",
       "Notes:\n",
       "[1] Standard Errors assume that the covariance matrix of the errors is correctly specified.\n",
       "[2] The smallest eigenvalue is 5.69e-12. This might indicate that there are\n",
       "strong multicollinearity problems or that the design matrix is singular.\n",
       "\"\"\""
      ]
     },
     "execution_count": 45,
     "metadata": {},
     "output_type": "execute_result"
    }
   ],
   "source": [
    "indep_var = 'x'\n",
    "for i in range(n-1):\n",
    "    indep_var = indep_var + f' + x_{i+2}'\n",
    "print(indep_var)\n",
    "\n",
    "model = ols(formula = f'y ~ {indep_var}', data=df)\n",
    "res = model.fit()\n",
    "res.summary()"
   ]
  },
  {
   "cell_type": "markdown",
   "id": "175f4ed6-e271-48e6-8988-9949f6be2a66",
   "metadata": {},
   "source": [
    "Looks like a good $R^2$! But wait one second.."
   ]
  },
  {
   "cell_type": "code",
   "execution_count": 46,
   "id": "4a396e21-ac5e-42ad-bb59-39032d3c4e7f",
   "metadata": {},
   "outputs": [
    {
     "data": {
      "image/png": "[encoded data removed]",
      "text/plain": [
       "<Figure size 432x288 with 1 Axes>"
      ]
     },
     "metadata": {
      "needs_background": "light"
     },
     "output_type": "display_data"
    }
   ],
   "source": [
    "plt.scatter(x=x, y=y)\n",
    "\n",
    "# plot the polynomial\n",
    "coefs = list(res.params)\n",
    "coefs.reverse()\n",
    "poly = [np.polyval(coefs, i) for i in x]\n",
    "plt.plot(x, poly)\n",
    "\n",
    "plt.xlim(min(x), max(x))\n",
    "plt.ylim(min(y), max(y))\n",
    "plt.show()"
   ]
  },
  {
   "cell_type": "markdown",
   "id": "db1cf639-5756-4901-a68c-fb05c84efbdb",
   "metadata": {},
   "source": [
    "That doesn't seem right.. What happens if create a test set:"
   ]
  },
  {
   "cell_type": "code",
   "execution_count": 47,
   "id": "43feb541-536d-4217-8956-cf15b08aad57",
   "metadata": {},
   "outputs": [
    {
     "data": {
      "image/png": "[encoded data removed]",
      "text/plain": [
       "<Figure size 432x288 with 1 Axes>"
      ]
     },
     "metadata": {
      "needs_background": "light"
     },
     "output_type": "display_data"
    }
   ],
   "source": [
    "x_test = np.linspace(-2,2,num_pts)\n",
    "epsilon = np.random.normal(0,3,num_pts)\n",
    "\n",
    "# degree 3 polynomial\n",
    "y_test = 3*(x_test-1)*(x_test+2)*(x_test-1.5) + epsilon\n",
    "\n",
    "plt.scatter(x=x_test, y=y_test)\n",
    "plt.show()"
   ]
  },
  {
   "cell_type": "code",
   "execution_count": 48,
   "id": "6ae7e781-8f76-40be-8ca5-6bb69882c6d2",
   "metadata": {},
   "outputs": [
    {
     "data": {
      "image/png": "[encoded data removed]",
      "text/plain": [
       "<Figure size 432x288 with 1 Axes>"
      ]
     },
     "metadata": {
      "needs_background": "light"
     },
     "output_type": "display_data"
    }
   ],
   "source": [
    "plt.scatter(x=x_test, y=y_test)\n",
    "\n",
    "plt.plot(x, poly)\n",
    "\n",
    "plt.xlim(min(x_test), max(x_test))\n",
    "plt.ylim(min(y_test), max(y_test))\n",
    "plt.show()"
   ]
  },
  {
   "cell_type": "code",
   "execution_count": 49,
   "id": "c1a5709a-0ba8-4038-ba2a-b73a8eaa85a8",
   "metadata": {},
   "outputs": [
    {
     "name": "stdout",
     "output_type": "stream",
     "text": [
      "The R squared for this model is 0.5603726681206658\n"
     ]
    }
   ],
   "source": [
    "train_mean = y.mean()\n",
    "y_pred = [np.polyval(coefs, i) for i in x_test]\n",
    "\n",
    "tss = sum((y_test - train_mean)**2)\n",
    "rss = sum((y_test - y_pred)**2)\n",
    "\n",
    "r2 = (tss - rss) / tss\n",
    "print(f'The R squared for this model is {r2}')"
   ]
  },
  {
   "cell_type": "markdown",
   "id": "f4762323-1124-4d80-a8b7-5fcd4db7736b",
   "metadata": {},
   "source": [
    "We want to find that sweet spot between underfitting and overfitting!\n",
    "- **Cross Validation**: Split the dataset into disjoint pieces. Use each piece as a **validation** set and train the model on the rest of the data. Average the metrics over the pieces.\n",
    "- $k$-fold: split training set into $k$ equal, disjoint sets.\n",
    "- Leave Out One Cross Validation (LOOCV): Each data point is a piece.\n",
    "- **Bootstrapping**: Do this *with replacement* rather than disjoint pieces."
   ]
  },
  {
   "cell_type": "markdown",
   "id": "f6206240-0f8d-4114-8781-69b2b8fc5065",
   "metadata": {},
   "source": [
    "### Data Leakage\n",
    "- Why train, *validation*, test split?\n",
    "- **Data Leakage in Machine Learning** is when information about the test set used to evalute the model or the target variable *leaks* into the modeling process.\n",
    "\n",
    "Let's say I create a test set from my training data, and I run a linear regression. The $R^2$ isn't where I hoped, so I remove some outliers from the training data. It goes up! Great. Now I engineer 5 features. I see which of these features improves the $R^2$ the most on the test set, and decide to keep that one in my model. My final model is created on the training set with the outliers removed and my best engineered feature. I report the $R^2$ of this model's predictions on the test set.\n",
    "\n",
    "- Why can't I trust these results?"
   ]
  },
  {
   "cell_type": "code",
   "execution_count": 50,
   "id": "f7ddbaa1-a5dd-4b3c-822d-cabcfa497302",
   "metadata": {},
   "outputs": [
    {
     "data": {
      "text/html": [
       "<div>\n",
       "<style scoped>\n",
       "    .dataframe tbody tr th:only-of-type {\n",
       "        vertical-align: middle;\n",
       "    }\n",
       "\n",
       "    .dataframe tbody tr th {\n",
       "        vertical-align: top;\n",
       "    }\n",
       "\n",
       "    .dataframe thead th {\n",
       "        text-align: right;\n",
       "    }\n",
       "</style>\n",
       "<table border=\"1\" class=\"dataframe\">\n",
       "  <thead>\n",
       "    <tr style=\"text-align: right;\">\n",
       "      <th></th>\n",
       "      <th>species</th>\n",
       "      <th>island</th>\n",
       "      <th>bill_length_mm</th>\n",
       "      <th>bill_depth_mm</th>\n",
       "      <th>flipper_length_mm</th>\n",
       "      <th>body_mass_g</th>\n",
       "      <th>sex</th>\n",
       "      <th>is_heavier</th>\n",
       "      <th>is_male</th>\n",
       "    </tr>\n",
       "  </thead>\n",
       "  <tbody>\n",
       "    <tr>\n",
       "      <th>0</th>\n",
       "      <td>Adelie</td>\n",
       "      <td>Torgersen</td>\n",
       "      <td>39.1</td>\n",
       "      <td>18.7</td>\n",
       "      <td>181.0</td>\n",
       "      <td>3750.0</td>\n",
       "      <td>Male</td>\n",
       "      <td>False</td>\n",
       "      <td>1</td>\n",
       "    </tr>\n",
       "    <tr>\n",
       "      <th>1</th>\n",
       "      <td>Adelie</td>\n",
       "      <td>Torgersen</td>\n",
       "      <td>39.5</td>\n",
       "      <td>17.4</td>\n",
       "      <td>186.0</td>\n",
       "      <td>3800.0</td>\n",
       "      <td>Female</td>\n",
       "      <td>False</td>\n",
       "      <td>0</td>\n",
       "    </tr>\n",
       "    <tr>\n",
       "      <th>2</th>\n",
       "      <td>Adelie</td>\n",
       "      <td>Torgersen</td>\n",
       "      <td>40.3</td>\n",
       "      <td>18.0</td>\n",
       "      <td>195.0</td>\n",
       "      <td>3250.0</td>\n",
       "      <td>Female</td>\n",
       "      <td>False</td>\n",
       "      <td>0</td>\n",
       "    </tr>\n",
       "    <tr>\n",
       "      <th>3</th>\n",
       "      <td>Adelie</td>\n",
       "      <td>Torgersen</td>\n",
       "      <td>36.7</td>\n",
       "      <td>19.3</td>\n",
       "      <td>193.0</td>\n",
       "      <td>3450.0</td>\n",
       "      <td>Female</td>\n",
       "      <td>False</td>\n",
       "      <td>0</td>\n",
       "    </tr>\n",
       "    <tr>\n",
       "      <th>4</th>\n",
       "      <td>Adelie</td>\n",
       "      <td>Torgersen</td>\n",
       "      <td>39.3</td>\n",
       "      <td>20.6</td>\n",
       "      <td>190.0</td>\n",
       "      <td>3650.0</td>\n",
       "      <td>Male</td>\n",
       "      <td>False</td>\n",
       "      <td>1</td>\n",
       "    </tr>\n",
       "  </tbody>\n",
       "</table>\n",
       "</div>"
      ],
      "text/plain": [
       "  species     island  bill_length_mm  bill_depth_mm  flipper_length_mm  \\\n",
       "0  Adelie  Torgersen            39.1           18.7              181.0   \n",
       "1  Adelie  Torgersen            39.5           17.4              186.0   \n",
       "2  Adelie  Torgersen            40.3           18.0              195.0   \n",
       "3  Adelie  Torgersen            36.7           19.3              193.0   \n",
       "4  Adelie  Torgersen            39.3           20.6              190.0   \n",
       "\n",
       "   body_mass_g     sex  is_heavier  is_male  \n",
       "0       3750.0    Male       False        1  \n",
       "1       3800.0  Female       False        0  \n",
       "2       3250.0  Female       False        0  \n",
       "3       3450.0  Female       False        0  \n",
       "4       3650.0    Male       False        1  "
      ]
     },
     "execution_count": 50,
     "metadata": {},
     "output_type": "execute_result"
    }
   ],
   "source": [
    "# which of these variables\n",
    "df_penguins.head()"
   ]
  },
  {
   "cell_type": "markdown",
   "id": "d6098076-9b9a-4331-822f-0f9918aba014",
   "metadata": {},
   "source": [
    "If I'm creating a model to predict penguin weight in a zoo, then maybe I won't know what ```island``` a penguin is from! In this case invalid information about the target variable has leaked into the model if I use ```island``` since I won't have this information when used in reality. My model will be overly confident."
   ]
  }
 ],
 "metadata": {
  "kernelspec": {
   "display_name": "Python 3",
   "language": "python",
   "name": "python3"
  },
  "language_info": {
   "codemirror_mode": {
    "name": "ipython",
    "version": 3
   },
   "file_extension": ".py",
   "mimetype": "text/x-python",
   "name": "python",
   "nbconvert_exporter": "python",
   "pygments_lexer": "ipython3",
   "version": "3.9.5"
  }
 },
 "nbformat": 4,
 "nbformat_minor": 5
}
